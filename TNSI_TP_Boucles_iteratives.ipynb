{
 "cells": [
  {
   "cell_type": "markdown",
   "metadata": {},
   "source": [
    "<h1 class=\"alert alert-info\"><center>Activité : boucles itératives</center></h1>"
   ]
  },
  {
   "cell_type": "markdown",
   "metadata": {},
   "source": [
    "## Travail à rendre en format notbook de jupyter\n",
    "<p>Le but de cette activité est de manipuler les boucles itératives.</p>\n"
   ]
  },
  {
   "cell_type": "markdown",
   "metadata": {},
   "source": [
    "<h2 class=\"alert alert-warning\"><center>Exercices</center></h2>"
   ]
  },
  {
   "cell_type": "markdown",
   "metadata": {},
   "source": [
    "<h2 class=\"alert alert-info\">Exercice 1 : produit d'entiers</h2>"
   ]
  },
  {
   "cell_type": "markdown",
   "metadata": {},
   "source": [
    "On considère l'algorithme suivant :\n",
    "\n",
    "<code>fonction fact(n)</code><br>\n",
    "<code>    test d'assertion pour vérifier que n est un entier supérieur ou égal à 1</code><br>\n",
    "<code>    P </code>$\\leftarrow$<code> 1</code><br>\n",
    "<code>    pour k allant de 2 à n</code><br>\n",
    "<code>        P </code>$\\leftarrow$<code> P </code>$\\times$<code> k</code><br>\n",
    "<code>    fin pour</code><br>\n",
    "<code>    renvoyer P</code><br>\n",
    "<code>fin fonction</code><br>\n",
    "<br>\n",
    "\n",
    "1. Que renvoient les instructions `fact(1)`, `fact(5)` et `fact(n)` ?"
   ]
  },
  {
   "cell_type": "markdown",
   "metadata": {},
   "source": [
    "<p style=\"font-style:italic; color:gray;\">Ecrire la réponse ici</p>"
   ]
  },
  {
   "cell_type": "markdown",
   "metadata": {},
   "source": [
    "2. Implémenter l'algorithme dans la cellule ci-dessous."
   ]
  },
  {
   "cell_type": "code",
   "execution_count": 8,
   "metadata": {},
   "outputs": [],
   "source": [
    "# Ecrire l'implémentation de l'algorithme ici\n"
   ]
  },
  {
   "cell_type": "markdown",
   "metadata": {},
   "source": [
    "Les quatre cellules suivantes permettent de tester votre fonction. Elles doivent renvoyer `True` lors de leur exécution."
   ]
  },
  {
   "cell_type": "code",
   "execution_count": null,
   "metadata": {},
   "outputs": [],
   "source": [
    "fact(1) == 1"
   ]
  },
  {
   "cell_type": "code",
   "execution_count": null,
   "metadata": {},
   "outputs": [],
   "source": [
    "fact(3) == 6"
   ]
  },
  {
   "cell_type": "code",
   "execution_count": null,
   "metadata": {},
   "outputs": [],
   "source": [
    "fact(4) == 24"
   ]
  },
  {
   "cell_type": "code",
   "execution_count": null,
   "metadata": {},
   "outputs": [],
   "source": [
    "fact(6) == 720"
   ]
  },
  {
   "cell_type": "markdown",
   "metadata": {},
   "source": [
    "<h2 class=\"alert alert-info\">Exercice 2 : placement bancaire</h2>"
   ]
  },
  {
   "cell_type": "markdown",
   "metadata": {},
   "source": [
    "1. On place une somme de $2000$ euros sur un compte remunéré au taux annuel de $2\\%$.<br>\n",
    "Compléter la fonction suivante de telle sorte qu'elle renvoie la somme disponible sur le compte au bout de $20$ ans. On arrondira le résultat au centime d'euro près."
   ]
  },
  {
   "cell_type": "code",
   "execution_count": null,
   "metadata": {},
   "outputs": [],
   "source": [
    "def placement():\n",
    "    somme = ...\n",
    "    for annee in range(...):\n",
    "        somme = somme * ...\n",
    "    return round(...,...)"
   ]
  },
  {
   "cell_type": "markdown",
   "metadata": {},
   "source": [
    "La cellule suivante permet de tester votre fonction. Elle doit renvoyer `True` lors de son exécution."
   ]
  },
  {
   "cell_type": "code",
   "execution_count": null,
   "metadata": {},
   "outputs": [],
   "source": [
    "placement() == 2971.89"
   ]
  },
  {
   "cell_type": "markdown",
   "metadata": {},
   "source": [
    "2. Modifier la fonction précédente en une fonction `placement_bancaire` de telle sorte qu'elle puisse fonctionner avec n'importe quel placement initial, n'importe quel taux et sur n'importe quelle durée."
   ]
  },
  {
   "cell_type": "code",
   "execution_count": null,
   "metadata": {},
   "outputs": [],
   "source": [
    "# Ecrire ici le code de la fonction placement_bancaire"
   ]
  },
  {
   "cell_type": "markdown",
   "metadata": {},
   "source": [
    "Les trois cellules suivantes permettent de tester votre fonction. Elles doivent renvoyer `True` lors de leur exécution."
   ]
  },
  {
   "cell_type": "code",
   "execution_count": null,
   "metadata": {},
   "outputs": [],
   "source": [
    "placement_bancaire(2000,2,20) == 2971.89"
   ]
  },
  {
   "cell_type": "code",
   "execution_count": null,
   "metadata": {},
   "outputs": [],
   "source": [
    "placement_bancaire(4000,2,15) == 5383.47"
   ]
  },
  {
   "cell_type": "code",
   "execution_count": null,
   "metadata": {},
   "outputs": [],
   "source": [
    "placement_bancaire(3000,1.75,10) == 3568.33"
   ]
  },
  {
   "cell_type": "markdown",
   "metadata": {},
   "source": [
    "<h2 class=\"alert alert-info\">Exercice 3 : jeu de rôle</h2>"
   ]
  },
  {
   "cell_type": "markdown",
   "metadata": {},
   "source": [
    "Dans un jeu, un joueur dispose de `250` points de vie. Il subit cinq attaques successives dont les valeurs sont des nombres entiers aléatoires entre `10` et `40`.\n",
    "\n",
    "1. Compléter le code de la fonction ci-dessous afin qu'elle renvoie le nombre de points de vie du joueur à l'issue de ces cinq attaques."
   ]
  },
  {
   "cell_type": "code",
   "execution_count": null,
   "metadata": {},
   "outputs": [],
   "source": [
    "from ...\n",
    "\n",
    "def attaques_aléatoires_5():\n",
    "    points_vie = ...\n",
    "    for i in range(5):\n",
    "        attaque = ...\n",
    "        points_vie = ...\n",
    "    return ..."
   ]
  },
  {
   "cell_type": "markdown",
   "metadata": {},
   "source": [
    "2. Le joueur dispose à présent d'une défense de `25`. Lorsqu'il subit une attaque de valeur `attaque`, on applique la règle suivante :\n",
    " - si la valeur de l'attaque est strictement supérieure à celle de la défense, le joueur perd `attaque - 25` points de vie ;\n",
    " - si la valeur de l'attaque est inférieure ou égale à celle de la défense, le joueur ne perd aucun point de vie.\n",
    "\n",
    "Compléter la fonction suivante afin qu'elle renvoie le nombre de points de vie du joueur à l'issue des cinq attaques précédentes."
   ]
  },
  {
   "cell_type": "code",
   "execution_count": null,
   "metadata": {},
   "outputs": [],
   "source": [
    "from ...\n",
    "\n",
    "def attaques_aléatoires_5_défense():\n",
    "    points_vie = ...\n",
    "    for i in range(5):\n",
    "        attaque = ...\n",
    "        if ... :\n",
    "            points_vie = ...\n",
    "    return ..."
   ]
  },
  {
   "cell_type": "markdown",
   "metadata": {},
   "source": [
    "3. On modifie la fonction précédente en une fonction `points_vie_attaques_aléatoires_multiples_défense` pour qu'elle fonctionne avec n'importe quel nombre de points de vie, n'importe quelle défense et n'importe quel nombre d'attaques successives prenant des valeurs entières aléatoires entre deux nombres entiers prédéfinis en respectant la règle suivante :\n",
    " - si la valeur de l'attaque est strictement supérieure à celle de la défense, le joueur perd `attaque - défense` points de vie ;\n",
    " - si la valeur de l'attaque est inférieure ou égale à celle de la défense, le joueur ne perd aucun point de vie.\n",
    " - si le nombre de points de vie à l'issue de toutes les attaques est strictement négatif, on le ramène à 0.\n",
    "\n",
    "Ecrire ci-dessous le code de cette fonction où les paramètres sont définis de la façon suivante :\n",
    " - `points_vie` est le nombre de points de vie initial du joueur ;\n",
    " - `défense` est la défense du joueur ;\n",
    " - `nb_attaques` est le nombre d'attaques successives subies par le joueur ;\n",
    " - `val_min_attaque` est la valeur minimale que peut prendre une attaque ;\n",
    " - `val_max_attaque` est la valeur maximale que peut prendre une attaque.\n",
    "\n",
    "Tous les paramètres de la fonction sont des nombres entiers strictement positifs."
   ]
  },
  {
   "cell_type": "code",
   "execution_count": null,
   "metadata": {},
   "outputs": [],
   "source": [
    "from ...\n",
    "\n",
    "def points_vie_attaques_aléatoires_multiples_défense(points_vie,défense,nb_attaques,val_min_attaque,val_max_attaque):\n",
    "    # code à compléter"
   ]
  },
  {
   "cell_type": "markdown",
   "metadata": {},
   "source": [
    "<h2 class=\"alert alert-info\">Exercice 4 : lancer d'un dé</h2>"
   ]
  },
  {
   "cell_type": "markdown",
   "metadata": {},
   "source": [
    "On lance $50$ fois un dé équilibré à six faces numérotées de $1$ à $6$ et on regarde le nombre de fois où on a obtenu $6$.\n",
    "\n",
    "Compléter la fonction suivante afin de simuler cette expérience."
   ]
  },
  {
   "cell_type": "code",
   "execution_count": null,
   "metadata": {},
   "outputs": [],
   "source": [
    "from random ...\n",
    "\n",
    "def lancers_50_dé_6():\n",
    "    nb6 = ... # initialisation du compteur donnant le nombre de 6 obtenu\n",
    "    for lancer in range(...):\n",
    "        face = randint(...,...)\n",
    "        if face ... :\n",
    "            nb6 = nb6 + ...\n",
    "    return ..."
   ]
  },
  {
   "cell_type": "markdown",
   "metadata": {},
   "source": [
    "<h2 class=\"alert alert-info\">Exercice 5 : pile ou face</h2>"
   ]
  },
  {
   "cell_type": "markdown",
   "metadata": {},
   "source": [
    "Compléter la fonction suivante simulant le jeu du Pile ou Face avec une pièce équilibrée et renvoyant pour un nombre de lancers `nb_lancers` donné la fréquence d'apparition du Pile."
   ]
  },
  {
   "cell_type": "code",
   "execution_count": null,
   "metadata": {},
   "outputs": [],
   "source": [
    "from ...\n",
    "    \n",
    "def freq_pile(nb_lancers):\n",
    "    nb_pile = ...\n",
    "    for i in ... :\n",
    "        piece = randint(0,...)\n",
    "        if piece ... :\n",
    "            nb_pile = ...\n",
    "    return ..."
   ]
  },
  {
   "cell_type": "markdown",
   "metadata": {},
   "source": [
    "<h2 class=\"alert alert-warning\"><center>Pour aller plus loin</center></h2>"
   ]
  },
  {
   "cell_type": "markdown",
   "metadata": {},
   "source": [
    "<h2 class=\"alert alert-info\">Exercice 1 : flux de populations</h2>"
   ]
  },
  {
   "cell_type": "markdown",
   "metadata": {},
   "source": [
    "On considère un flux de populations entre trois zones géographiques $A$, $B$ et $C$ sous les conditions suivantes :\n",
    " - La population totale des trois zones reste constante au cours du temps.\n",
    " - Chaque année, la zone $A$ perd $20\\%$ de sa population au profit de la zone $B$ et $10\\%$ de sa population au profit de la zone $C$.\n",
    " - Chaque année, la zone $B$ perd $15\\%$ de sa population au profit de la zone $A$ et $5\\%$ de sa population au profit de la zone $C$.\n",
    " - Chaque année, la zone $C$ perd $25\\%$ de sa population au profit de la zone $A$ et $10\\%$ de sa population au profit de la zone $B$.\n",
    "\n",
    "Le tableau suivant donne les populations initiales des trois zones :"
   ]
  },
  {
   "cell_type": "markdown",
   "metadata": {},
   "source": [
    "| Zone A | Zone B | Zone C |\n",
    "| :----: | :----: | :----: |\n",
    "| 100 000 | 80 000 | 120 000 |"
   ]
  },
  {
   "cell_type": "markdown",
   "metadata": {},
   "source": [
    "Compléter la fonction ci-dessous de telle sorte qu'elle renvoie les populations des trois zones $A$, $B$ et $C$ dans cet ordre au bout de `nb_années` années."
   ]
  },
  {
   "cell_type": "code",
   "execution_count": null,
   "metadata": {},
   "outputs": [],
   "source": [
    "def évolution_pop(nb_années):\n",
    "    assert ... # test d'assertion sur nb_années\n",
    "    popA = ... # population initiale de la zone A\n",
    "    popB = ... # population initiale de la zone B\n",
    "    popC = ... # population initiale de la zone C\n",
    "    for annee in ...:\n",
    "        popA_temp = ... # calcul de la nouvelle population de la zone A\n",
    "        popB_temp = ...\n",
    "        popC_temp = ...\n",
    "        popA = ...\n",
    "        popB = ...\n",
    "        popC = ...\n",
    "    return ..."
   ]
  },
  {
   "cell_type": "markdown",
   "metadata": {},
   "source": [
    "Les trois cellules suivantes permettent de tester votre fonction. Elles doivent renvoyer `True` lors de leur exécution."
   ]
  },
  {
   "cell_type": "code",
   "execution_count": null,
   "metadata": {},
   "outputs": [],
   "source": [
    "évolution_pop(0) == (100000,80000,120000)"
   ]
  },
  {
   "cell_type": "code",
   "execution_count": null,
   "metadata": {},
   "outputs": [],
   "source": [
    "évolution_pop(3) == (116270.0, 117460.0, 66270.0)"
   ]
  },
  {
   "cell_type": "code",
   "execution_count": null,
   "metadata": {},
   "outputs": [],
   "source": [
    "évolution_pop(5) == (114624.07499999998, 128251.85000000002, 57124.075000000004)"
   ]
  },
  {
   "cell_type": "markdown",
   "metadata": {},
   "source": [
    "<h2 class=\"alert alert-info\">Exercice 2 : suite de Syracuse (partie 2)</h2>"
   ]
  },
  {
   "cell_type": "markdown",
   "metadata": {},
   "source": [
    "On considère la suite $(u_n)$ d'entiers naturels définie de la façon suivante :\n",
    "<center>$u_0\\in\\mathbb N^*$ et, pour tout $n\\geq0$ : $u_{n+1}=\\begin{cases}\\dfrac{u_n}{2}&\\text{si }u_n\\text{ est pair}\\\\\n",
    "3u_n+1&\\text{si }u_n\\text{ est impair}\\end{cases}$</center>\n",
    "<br><br>\n",
    "En s'aidant de la fonction écrite à l'exercice 5 de l'activité sur les embranchements simples, compléter ci-dessous la fonction <code>syracuse</code> qui prend en paramètre des entiers <code>val</code> et <code>n</code> et qui renvoie le terme de la suite de rang <code>n</code> définie à partir de la condition initiale $u_0=$<code>val</code>."
   ]
  },
  {
   "cell_type": "code",
   "execution_count": null,
   "metadata": {},
   "outputs": [],
   "source": [
    "def syracuse(val,n):\n",
    "    assert ... # test d'assertion sur val\n",
    "    assert ... # test d'assertion sur n\n",
    "    u = ... # initialisation de la suite (u_n)\n",
    "    for i in range(1,...):\n",
    "        # à compléter, éventuellement sur plusieurs lignes\n",
    "    return ..."
   ]
  },
  {
   "cell_type": "markdown",
   "metadata": {},
   "source": [
    "Les trois cellules suivantes permettent de tester votre fonction. Elles doivent renvoyer `True` lors de leur exécution."
   ]
  },
  {
   "cell_type": "code",
   "execution_count": null,
   "metadata": {},
   "outputs": [],
   "source": [
    "syracuse(8,6) == 1"
   ]
  },
  {
   "cell_type": "code",
   "execution_count": null,
   "metadata": {},
   "outputs": [],
   "source": [
    "syracuse(54,14) == 161"
   ]
  },
  {
   "cell_type": "code",
   "execution_count": null,
   "metadata": {},
   "outputs": [],
   "source": [
    "syracuse(478,12) == 911"
   ]
  },
  {
   "cell_type": "markdown",
   "metadata": {},
   "source": [
    "<h2 class=\"alert alert-info\">Exercice 3 : lancer de deux dés</h2>"
   ]
  },
  {
   "cell_type": "markdown",
   "metadata": {},
   "source": [
    "On lance $25$ fois deux dés équilibrés à six faces numérotées de $1$ à $6$ et on regarde le nombre de fois où on a obtenu deux faces identiques.\n",
    "\n",
    "En s'aidant de la fonction écrite à l'exercice précédent, écrire une fonction `lancers_25_deux_dés_faces_identiques` permettant de simuler cette expérience."
   ]
  },
  {
   "cell_type": "code",
   "execution_count": null,
   "metadata": {},
   "outputs": [],
   "source": [
    "# Ecrire ici le code de la fonction lancers_25_deux_dés_faces_identiques"
   ]
  },
  {
   "cell_type": "markdown",
   "metadata": {},
   "source": [
    "<h2 class=\"alert alert-info\">Exercice 4 : méthode de Monte-Carlo</h2>"
   ]
  },
  {
   "cell_type": "markdown",
   "metadata": {},
   "source": [
    "On considère le disque de centre $O$ et de rayon $1$, ainsi que le carré circonscrit à ce disque.\n",
    "\n",
    "On choisit au hasard $n$ points dans le carré et on regarde la fréquence d'apparition de ces points à l'intérieur du disque.\n",
    "\n",
    "1. En s'aidant des fonctions écrites ci-dessus, écrire une fonction `monte_carlo` permettant de simuler cette expérience.\n",
    "2. Que peut-on dire de cette fréquence lors le nombre de points choisis est très grand ?"
   ]
  },
  {
   "cell_type": "code",
   "execution_count": null,
   "metadata": {},
   "outputs": [],
   "source": [
    "from random import uniform\n",
    "    \n",
    "def monte_carlo(nb_points):\n",
    "    # code à compléter"
   ]
  },
  {
   "cell_type": "markdown",
   "metadata": {},
   "source": [
    "<a rel=\"license\" href=\"http://creativecommons.org/licenses/by-sa/4.0/\"><img alt=\"Licence Creative Commons\" style=\"border-width:0\" src=\"https://i.creativecommons.org/l/by-sa/4.0/88x31.png\" /></a><br />Ce document  est mis à disposition selon les termes de la <a rel=\"license\" href=\"http://creativecommons.org/licenses/by-sa/4.0/\">Licence Creative Commons Attribution -  Partage dans les Mêmes Conditions 4.0 International</a>.\n",
    "Pour toute question : <a href=\"mailto:charles.poulmaire@ac-versailles.fr\">charles.poulmaire@ac-versailles.fr</a> ou <a href=\"mailto:pascal.remy@ac-versailles.fr\">pascal.remy@ac-versailles.fr</a>"
   ]
  }
 ],
 "metadata": {
  "kernelspec": {
   "display_name": "Python 3 (ipykernel)",
   "language": "python",
   "name": "python3"
  },
  "language_info": {
   "codemirror_mode": {
    "name": "ipython",
    "version": 3
   },
   "file_extension": ".py",
   "mimetype": "text/x-python",
   "name": "python",
   "nbconvert_exporter": "python",
   "pygments_lexer": "ipython3",
   "version": "3.11.5"
  }
 },
 "nbformat": 4,
 "nbformat_minor": 2
}
