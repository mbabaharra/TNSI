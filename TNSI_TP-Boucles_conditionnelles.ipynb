{
 "cells": [
  {
   "cell_type": "markdown",
   "metadata": {},
   "source": [
    "<h1 class=\"alert alert-info\"><center>Activité : boucles conditionnelles</center></h1>"
   ]
  },
  {
   "cell_type": "markdown",
   "metadata": {},
   "source": [
    "## Travail à rendre en format notbook de jupyter\n",
    "<p>Le but de cette activité est de manipuler les boucles conditionnelles.</p>"
   ]
  },
  {
   "cell_type": "markdown",
   "metadata": {},
   "source": [
    "<h2 class=\"alert alert-warning\"><center>Exercices</center></h2>"
   ]
  },
  {
   "cell_type": "markdown",
   "metadata": {},
   "source": [
    "<h2 class=\"alert alert-info\">Exercice 1 : mystère...</h2>"
   ]
  },
  {
   "cell_type": "markdown",
   "metadata": {},
   "source": [
    "On considère l'algorithme suivant :\n",
    "\n",
    "<code>fonction mystere()</code><br>\n",
    "<code>    somme </code>$\\leftarrow$<code> 2000</code><br>\n",
    "<code>    nb_annees </code>$\\leftarrow$<code> 0</code><br>\n",
    "<code>    tant que somme < 3000</code><br>\n",
    "<code>        somme </code>$\\leftarrow$<code> somme </code>$\\times1,02$<br>\n",
    "<code>        nb_annees </code>$\\leftarrow$<code> nb_annees + 1 </code><br>\n",
    "<code>    fin tant que</code><br>\n",
    "    <code>    renvoyer nb_annees et une valeur approchée de somme à </code>$10^{-2}$<code> près</code><br>\n",
    "<code>fin fonction</code><br>\n",
    "<br>\n",
    "\n",
    "1. Que renvoie la fonction `mystere` ? En donner une interprétation concrète."
   ]
  },
  {
   "cell_type": "markdown",
   "metadata": {},
   "source": [
    "<p style=\"font-style:italic; color:gray;\">Ecrire la réponse ici</p>"
   ]
  },
  {
   "cell_type": "markdown",
   "metadata": {},
   "source": [
    "2. Implémenter l'algorithme dans la cellule ci-dessous."
   ]
  },
  {
   "cell_type": "code",
   "execution_count": null,
   "metadata": {},
   "outputs": [],
   "source": [
    "# Ecrire l'implémentation de l'algorithme ici"
   ]
  },
  {
   "cell_type": "markdown",
   "metadata": {},
   "source": [
    "<h2 class=\"alert alert-info\">Exercice 2 : placement bancaire</h2>"
   ]
  },
  {
   "cell_type": "markdown",
   "metadata": {},
   "source": [
    "On dépose une somme d'argent sur un compte rémunéré et on désire savoir combien d'années on doit attendre avant que la somme disponible sur ce compte ait atteint une valeur particulière. On veut aussi connaître la somme disponible réellement à cet instant, au centime d'euro près.\n",
    "\n",
    "En s'aidant de la fonction écrite à l'exercice précédent, compléter la fonction `placement_bancaire_seuil` pour qu'elle renvoie la réponse à ce problème."
   ]
  },
  {
   "cell_type": "code",
   "execution_count": null,
   "metadata": {},
   "outputs": [],
   "source": [
    "def placement_bancaire_seuil(placement,taux,somme_cible):\n",
    "    # à compléter, éventuellement sur plusieurs lignes"
   ]
  },
  {
   "cell_type": "markdown",
   "metadata": {},
   "source": [
    "Les trois cellules suivantes sont un jeu de tests pour tester votre fonction. Chacune doit renvoyer `True` lors de l'exécution de la cellule."
   ]
  },
  {
   "cell_type": "code",
   "execution_count": null,
   "metadata": {},
   "outputs": [],
   "source": [
    "placement_bancaire_seuil(2000,2,3000) == (21, 3031.33)"
   ]
  },
  {
   "cell_type": "code",
   "execution_count": null,
   "metadata": {},
   "outputs": [],
   "source": [
    "placement_bancaire_seuil(5000,1.5,8000) == (32, 8051.62)"
   ]
  },
  {
   "cell_type": "code",
   "execution_count": null,
   "metadata": {},
   "outputs": [],
   "source": [
    "placement_bancaire_seuil(2000,5.25,5000) == (18, 5023.75)"
   ]
  },
  {
   "cell_type": "markdown",
   "metadata": {},
   "source": [
    "<h2 class=\"alert alert-info\">Exercice 3 : culture de bactéries</h2>"
   ]
  },
  {
   "cell_type": "markdown",
   "metadata": {},
   "source": [
    "A l'instant $t=0$, on met en culture une population de bactéries qui augmente de $10,5\\%$ toutes les heures.\n",
    "\n",
    "En s'aidant des fonctions écrites aux exercices 1 et 2, écrire une fonction `attente_seuil_bacteries` prenant en paramètres deux entiers `pop_initiale` et `pop_finale` correspondant respectivement à la taille initiale de la population mise en culture et à la taille de la population que l'on veut atteindre, et renvoyant le nombre d'heures à attendre pour atteindre cette taille."
   ]
  },
  {
   "cell_type": "code",
   "execution_count": null,
   "metadata": {},
   "outputs": [],
   "source": [
    "# Ecrire la fonction attente_seuil_bacteries ici"
   ]
  },
  {
   "cell_type": "markdown",
   "metadata": {},
   "source": [
    "Les trois cellules suivantes sont un jeu de tests pour tester votre fonction. Chacune doit renvoyer `True` lors de l'exécution de la cellule."
   ]
  },
  {
   "cell_type": "code",
   "execution_count": null,
   "metadata": {},
   "outputs": [],
   "source": [
    "attente_seuil_bacteries(100000,200000) == 7"
   ]
  },
  {
   "cell_type": "code",
   "execution_count": null,
   "metadata": {},
   "outputs": [],
   "source": [
    "attente_seuil_bacteries(100000,500000) == 17"
   ]
  },
  {
   "cell_type": "code",
   "execution_count": null,
   "metadata": {},
   "outputs": [],
   "source": [
    "attente_seuil_bacteries(100000,1000000) == 24"
   ]
  },
  {
   "cell_type": "markdown",
   "metadata": {},
   "source": [
    "<h2 class=\"alert alert-info\">Exercice 4 : jeu de rôle</h2>"
   ]
  },
  {
   "cell_type": "markdown",
   "metadata": {},
   "source": [
    "Dans un jeu, un joueur dispose de `250` points de vie. Il subit des attaques successives dont les valeurs sont des nombres entiers aléatoires entre `10` et `40`.\n",
    "\n",
    "Lorsque le nombre de points de vie du joueur devient négatif ou nul, on dit que le joueur s'évanouit.\n",
    "\n",
    "1. Compléter le code de la fonction ci-dessous afin qu'elle renvoie le nombre d'attaques que le joueur peut subir jusqu'à ce qu'il s'évanouisse."
   ]
  },
  {
   "cell_type": "code",
   "execution_count": null,
   "metadata": {},
   "outputs": [],
   "source": [
    "from ...\n",
    "\n",
    "def nb_attaques_aléatoires():\n",
    "    points_vie = ...\n",
    "    nb_attaques = ...\n",
    "    while ... :\n",
    "        attaque = randint(10,40)\n",
    "        points_vie = ...\n",
    "        nb_attaques = ...\n",
    "    return ..."
   ]
  },
  {
   "cell_type": "markdown",
   "metadata": {},
   "source": [
    "2. Le joueur dispose à présent d'une défense de `25`. Lorsqu'il subit une attaque de valeur `attaque`, on applique la règle suivante :\n",
    " - si la valeur de l'attaque est strictement supérieure à celle de la défense, le joueur perd `attaque - 25` points de vie ;\n",
    " - si la valeur de l'attaque est inférieure ou égale à celle de la défense, le joueur ne perd aucun point de vie.\n",
    "\n",
    "Compléter la fonction suivante afin qu'elle renvoie le nombre d'attaques que le joueur peut subir dans ces conditions jusqu'à ce qu'il s'évanouisse."
   ]
  },
  {
   "cell_type": "code",
   "execution_count": null,
   "metadata": {},
   "outputs": [],
   "source": [
    "from ...\n",
    "\n",
    "def nb_attaques_aléatoires_défense():\n",
    "    points_vie = ...\n",
    "    nb_attaques = ...\n",
    "    while ... :\n",
    "        attaque = randint(10,40)\n",
    "        if ... :\n",
    "            points_vie = ...\n",
    "        nb_attaques = ...\n",
    "    return ..."
   ]
  },
  {
   "cell_type": "markdown",
   "metadata": {},
   "source": [
    "3. On modifie la fonction précédente en une fonction `nb_attaques_aléatoires_points_vie_défense` pour qu'elle fonctionne avec n'importe quel nombre de points de vie, n'importe quelle défense et des attaques successives prenant des valeurs entières aléatoires entre deux nombres entiers prédéfinis en respectant la règle suivante :\n",
    " - si la valeur de l'attaque est strictement supérieure à celle de la défense, le joueur perd `attaque - défense` points de vie ;\n",
    " - si la valeur de l'attaque est inférieure ou égale à celle de la défense, le joueur ne perd aucun point de vie.\n",
    "\n",
    "Ecrire ci-dessous le code de cette fonction où les paramètres sont définis de la façon suivante :\n",
    " - `points_vie` est le nombre de points de vie initial du joueur ;\n",
    " - `défense` est la défense du joueur ;\n",
    " - `val_min_attaque` est la valeur minimale que peut prendre une attaque ;\n",
    " - `val_max_attaque` est la valeur maximale que peut prendre une attaque.\n",
    "\n",
    "Tous les paramètres de la fonction sont des nombres entiers strictement positifs."
   ]
  },
  {
   "cell_type": "code",
   "execution_count": null,
   "metadata": {},
   "outputs": [],
   "source": [
    "from ...\n",
    "\n",
    "def nb_attaques_aléatoires_points_vie_défense(points_vie,défense,val_min_attaque,val_max_attaque):\n",
    "    # code à compléter"
   ]
  },
  {
   "cell_type": "markdown",
   "metadata": {},
   "source": [
    "<h2 class=\"alert alert-info\">Exercice 5 : lancers d'un dé</h2>"
   ]
  },
  {
   "cell_type": "markdown",
   "metadata": {},
   "source": [
    "On lance plusieurs fois un dé équilibré à six faces numérotées de $1$ à $6$ et on regarde le nombre de lancers qu'il a fallu effectuer pour obtenir le $6$ pour la première fois.\n",
    "\n",
    "Compléter la fonction suivante afin de simuler cette expérience."
   ]
  },
  {
   "cell_type": "code",
   "execution_count": null,
   "metadata": {},
   "outputs": [],
   "source": [
    "from ...\n",
    "\n",
    "def nb_lancers_dé_6():\n",
    "    nb_lancers = ...\n",
    "    face = 0\n",
    "    while ... :\n",
    "        nb_lancers = ...\n",
    "        face = ...\n",
    "    return nb_lancers"
   ]
  },
  {
   "cell_type": "markdown",
   "metadata": {},
   "source": [
    "A quoi sert l'instruction `face = 0` avant la boucle `while` ?"
   ]
  },
  {
   "cell_type": "markdown",
   "metadata": {},
   "source": [
    "<h2 class=\"alert alert-info\">Exercice 6 : lancers de deux dés (partie 1)</h2>"
   ]
  },
  {
   "cell_type": "markdown",
   "metadata": {},
   "source": [
    "On lance plusieurs fois deux dés équilibrés à six faces numérotées de $1$ à $6$ et on regarde le nombre de lancers qu'il a fallu effectuer pour obtenir deux faces identiques pour la première fois.\n",
    "\n",
    "En s'aidant de la fonction écrite à l'exercice précédent, écrire une fonction `nb_lancers_deux_dés_faces_identiques` permettant de simuler cette expérience."
   ]
  },
  {
   "cell_type": "code",
   "execution_count": null,
   "metadata": {},
   "outputs": [],
   "source": [
    "# Ecrire ici le code de la fonction nb_lancers_deux_dés_faces_identiques"
   ]
  },
  {
   "cell_type": "markdown",
   "metadata": {},
   "source": [
    "<h2 class=\"alert alert-warning\"><center>Pour aller plus loin</center></h2>"
   ]
  },
  {
   "cell_type": "markdown",
   "metadata": {},
   "source": [
    "<h2 class=\"alert alert-info\">Exercice 1 : suite de Syracuse (partie 3)</h2>"
   ]
  },
  {
   "cell_type": "markdown",
   "metadata": {},
   "source": [
    "On considère la suite $(u_n)$ d'entiers naturels définie de la façon suivante :\n",
    "<center>$u_0\\in\\mathbb N^*$ et, pour tout $n\\geq0$ : $u_{n+1}=\\begin{cases}\\dfrac{u_n}{2}&\\text{si }u_n\\text{ est pair}\\\\\n",
    "3u_n+1&\\text{si }u_n\\text{ est impair}\\end{cases}$</center>\n",
    "<br><br>\n",
    "Une conjecture, appelée _conjecture de Syracuse_ et non encore démontrée à ce jour, affirme qu'il existe un entier $N\\geq0$ tel que $u_N=1$.\n",
    "\n",
    "Le plus petit entier $N$ pour lequel $u_N=1$ est appelé le _temps de vol de $u_0$_.\n",
    "\n",
    "Exemple :\n",
    " - si $u_0=1$, alors $N=0$ et le temps de vol de $u_0$ est $0$ ;\n",
    " - si $u_0=2$, alors $u_1=1$ ; d'où $N=1$ et le temps de vol de $u_1$ est $1$ ;\n",
    " - si $u_0=4$, alors $u_1=2$ et $u_2=1$ ; d'où $N=2$ et le temps de vol de $u_2$ est $2$.\n",
    " \n",
    "La fonction `vol_syracuse` ci-dessous prend en paramètre un entier `val` correspondant à la valeur initiale $u_0$ et renvoie le temps de vol de cet entier.\n",
    "\n",
    "Compléter cette fonction."
   ]
  },
  {
   "cell_type": "code",
   "execution_count": null,
   "metadata": {},
   "outputs": [],
   "source": [
    "def vol_syracuse(val):\n",
    "    assert ... # test d'assertion sur val\n",
    "    u = ...\n",
    "    temps_vol = 0\n",
    "    while ... :\n",
    "        temps_vol = ...\n",
    "        if ... == 0:\n",
    "            ...\n",
    "        else:\n",
    "            ...\n",
    "    return ..."
   ]
  },
  {
   "cell_type": "markdown",
   "metadata": {},
   "source": [
    "Les quatre cellules suivantes sont un jeu de tests pour tester votre fonction. Chacune doit renvoyer `True` lors de l'exécution de la cellule."
   ]
  },
  {
   "cell_type": "code",
   "execution_count": null,
   "metadata": {},
   "outputs": [],
   "source": [
    "vol_syracuse(4) == 2"
   ]
  },
  {
   "cell_type": "code",
   "execution_count": null,
   "metadata": {},
   "outputs": [],
   "source": [
    "vol_syracuse(831) == 134"
   ]
  },
  {
   "cell_type": "code",
   "execution_count": null,
   "metadata": {},
   "outputs": [],
   "source": [
    "vol_syracuse(1024) == 10"
   ]
  },
  {
   "cell_type": "code",
   "execution_count": null,
   "metadata": {},
   "outputs": [],
   "source": [
    "vol_syracuse(9876543210) == 217"
   ]
  },
  {
   "cell_type": "markdown",
   "metadata": {},
   "source": [
    "<h2 class=\"alert alert-info\">Exercice 2 : lancers de deux dés (partie 2)</h2>"
   ]
  },
  {
   "cell_type": "markdown",
   "metadata": {},
   "source": [
    "On lance plusieurs fois deux dés équilibrés à six faces numérotées de $1$ à $6$ et on regarde le nombre de lancers qu'il a fallu effectuer pour obtenir :\n",
    " 1. un double-six pour la première fois (expérience 1);\n",
    " 2. un double-quatre pour la première fois (expérience 2).\n",
    "\n",
    "En s'aidant de la fonction écrite à l'exercice précédent, écrire deux fonctions `nb_lancers_deux_dés_double_six` et `nb_lancers_deux_dés_double_quatre` permettant de simuler ces deux expériences."
   ]
  },
  {
   "cell_type": "code",
   "execution_count": null,
   "metadata": {},
   "outputs": [],
   "source": [
    "# Ecrire ici le code de la fonction nb_lancers_deux_dés_double_six"
   ]
  },
  {
   "cell_type": "code",
   "execution_count": null,
   "metadata": {},
   "outputs": [],
   "source": [
    "# Ecrire ici le code de la fonction nb_lancers_deux_dés_double_quatre"
   ]
  },
  {
   "cell_type": "markdown",
   "metadata": {},
   "source": [
    "<h2 class=\"alert alert-info\">Exercice 3 : lancers de deux dés (partie 3)</h2>"
   ]
  },
  {
   "cell_type": "markdown",
   "metadata": {},
   "source": [
    "On lance plusieurs fois deux dés équilibrés à six faces numérotées de $1$ à $6$ et on regarde le nombre de lancers qu'il a fallu effectuer pour obtenir un double-six pour la seconde fois.\n",
    "\n",
    "En s'aidant de la fonction écrite à l'exercice précédent, compléter la fonction `nb_lancers_deux_dés_double_six_deux_fois` ci-dessous permettant de simuler cette expérience."
   ]
  },
  {
   "cell_type": "code",
   "execution_count": null,
   "metadata": {},
   "outputs": [],
   "source": [
    "from ...\n",
    "    \n",
    "def nb_lancers_deux_dés_double_six_deux_fois():\n",
    "    nb_lancers = ... # compteur pour le nombre de lancers effectués\n",
    "    nb_double_six = ... # compteur pour le nombre de double-six obtenus\n",
    "    while nb_double_six ... :\n",
    "        nb_lancers = ...\n",
    "        face_dé1 = ...\n",
    "        face_dé2 = ...\n",
    "        if ... :\n",
    "            nb_double_six = ...\n",
    "    return ..."
   ]
  },
  {
   "cell_type": "markdown",
   "metadata": {},
   "source": [
    "<h2 class=\"alert alert-info\">Exercice 4 : tirages de cartes</h2>"
   ]
  },
  {
   "cell_type": "markdown",
   "metadata": {},
   "source": [
    "On considère le jeu suivant :\n",
    " - On choisit au hasard une carte dans un jeu classique de $32$ cartes.\n",
    " - Si la carte tirée est un as, on s'arrête ; sinon, on la remet dans le paquet et on recommence.\n",
    "\n",
    "On s'intéresse au nombre de tirages que l'on doit effectuer pour obtenir un as pour la première fois.\n",
    "\n",
    "Compléter la fonction `nb_tirages_as` ci-dessous permettant de simuler cette expérience."
   ]
  },
  {
   "cell_type": "code",
   "execution_count": null,
   "metadata": {},
   "outputs": [],
   "source": [
    "from ...\n",
    "    \n",
    "def nb_tirages_as():\n",
    "    nb_tirages = ...\n",
    "    carte = ...\n",
    "    while carte > 4: # les cartes du jeu sont assimilées à des nombres entiers...\n",
    "        nb_tirages = ...\n",
    "        carte = randint(...,...)\n",
    "    return ..."
   ]
  },
  {
   "cell_type": "markdown",
   "metadata": {},
   "source": [
    "<a rel=\"license\" href=\"http://creativecommons.org/licenses/by-sa/4.0/\"><img alt=\"Licence Creative Commons\" style=\"border-width:0\" src=\"https://i.creativecommons.org/l/by-sa/4.0/88x31.png\" /></a><br />Ce document  est mis à disposition selon les termes de la <a rel=\"license\" href=\"http://creativecommons.org/licenses/by-sa/4.0/\">Licence Creative Commons Attribution -  Partage dans les Mêmes Conditions 4.0 International</a>.\n",
    "Pour toute question : <a href=\"mailto:charles.poulmaire@ac-versailles.fr\">charles.poulmaire@ac-versailles.fr</a> ou <a href=\"mailto:pascal.remy@ac-versailles.fr\">pascal.remy@ac-versailles.fr</a>"
   ]
  }
 ],
 "metadata": {
  "kernelspec": {
   "display_name": "Python 3 (ipykernel)",
   "language": "python",
   "name": "python3"
  },
  "language_info": {
   "codemirror_mode": {
    "name": "ipython",
    "version": 3
   },
   "file_extension": ".py",
   "mimetype": "text/x-python",
   "name": "python",
   "nbconvert_exporter": "python",
   "pygments_lexer": "ipython3",
   "version": "3.11.5"
  }
 },
 "nbformat": 4,
 "nbformat_minor": 2
}
