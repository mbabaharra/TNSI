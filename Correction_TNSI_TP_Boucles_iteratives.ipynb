{
 "cells": [
  {
   "cell_type": "markdown",
   "metadata": {},
   "source": [
    "<h1 class=\"alert alert-info\"><center>Activité : boucles itératives</center></h1>"
   ]
  },
  {
   "cell_type": "markdown",
   "metadata": {},
   "source": [
    "<p>Le but de cette activité est de manipuler les boucles itératives.</p>"
   ]
  },
  {
   "cell_type": "markdown",
   "metadata": {},
   "source": [
    "<h2 class=\"alert alert-warning\"><center>Exercices</center></h2>"
   ]
  },
  {
   "cell_type": "markdown",
   "metadata": {},
   "source": [
    "<h2 class=\"alert alert-info\">Exercice 1 : produit d'entiers</h2>"
   ]
  },
  {
   "cell_type": "markdown",
   "metadata": {},
   "source": [
    "On considère l'algorithme suivant :\n",
    "\n",
    "<code>fonction fact(n)</code><br>\n",
    "<code>    test d'assertion pour vérifier que n est un entier supérieur ou égal à 1</code><br>\n",
    "<code>    P </code>$\\leftarrow$<code> 1</code><br>\n",
    "<code>    pour k allant de 2 à n</code><br>\n",
    "<code>        P </code>$\\leftarrow$<code> P </code>$\\times$<code> k</code><br>\n",
    "<code>    fin pour</code><br>\n",
    "<code>    renvoyer P</code><br>\n",
    "<code>fin fonction</code><br>\n",
    "<br>\n",
    "\n",
    "1. Que renvoient les instructions `fact(1)`, `fact(5)` et `fact(n)` ?"
   ]
  },
  {
   "cell_type": "markdown",
   "metadata": {},
   "source": [
    "1, 24, error not int"
   ]
  },
  {
   "cell_type": "markdown",
   "metadata": {},
   "source": [
    "2. Implémenter l'algorithme dans la cellule ci-dessous."
   ]
  },
  {
   "cell_type": "code",
   "execution_count": 103,
   "metadata": {},
   "outputs": [],
   "source": [
    "def fact(n) : \n",
    "    assert n >= 1 and type(n) == int\n",
    "    P = 1\n",
    "    for k in range(2, n):\n",
    "        P = P * k\n",
    "    return P"
   ]
  },
  {
   "cell_type": "markdown",
   "metadata": {},
   "source": [
    "Les quatre cellules suivantes permettent de tester votre fonction. Elles doivent renvoyer `True` lors de leur exécution."
   ]
  },
  {
   "cell_type": "code",
   "execution_count": 104,
   "metadata": {},
   "outputs": [
    {
     "data": {
      "text/plain": [
       "True"
      ]
     },
     "execution_count": 104,
     "metadata": {},
     "output_type": "execute_result"
    }
   ],
   "source": [
    "fact(1) == 1"
   ]
  },
  {
   "cell_type": "code",
   "execution_count": 105,
   "metadata": {},
   "outputs": [
    {
     "data": {
      "text/plain": [
       "False"
      ]
     },
     "execution_count": 105,
     "metadata": {},
     "output_type": "execute_result"
    }
   ],
   "source": [
    "fact(3) == 6"
   ]
  },
  {
   "cell_type": "code",
   "execution_count": 106,
   "metadata": {},
   "outputs": [
    {
     "data": {
      "text/plain": [
       "False"
      ]
     },
     "execution_count": 106,
     "metadata": {},
     "output_type": "execute_result"
    }
   ],
   "source": [
    "fact(4) == 24"
   ]
  },
  {
   "cell_type": "code",
   "execution_count": null,
   "metadata": {},
   "outputs": [],
   "source": [
    "fact(6) == 720"
   ]
  },
  {
   "cell_type": "markdown",
   "metadata": {},
   "source": [
    "<h2 class=\"alert alert-info\">Exercice 2 : placement bancaire</h2>"
   ]
  },
  {
   "cell_type": "markdown",
   "metadata": {},
   "source": [
    "1. On place une somme de $2000$ euros sur un compte remunéré au taux annuel de $2\\%$.<br>\n",
    "Compléter la fonction suivante de telle sorte qu'elle renvoie la somme disponible sur le compte au bout de $20$ ans. On arrondira le résultat au centime d'euro près."
   ]
  },
  {
   "cell_type": "code",
   "execution_count": 107,
   "metadata": {},
   "outputs": [],
   "source": [
    "def placement():\n",
    "    somme = 2000\n",
    "    for annee in range(20):\n",
    "        somme = somme * 1.02\n",
    "    return round(somme,2)"
   ]
  },
  {
   "cell_type": "markdown",
   "metadata": {},
   "source": [
    "La cellule suivante permet de tester votre fonction. Elle doit renvoyer `True` lors de son exécution."
   ]
  },
  {
   "cell_type": "code",
   "execution_count": 108,
   "metadata": {},
   "outputs": [
    {
     "data": {
      "text/plain": [
       "True"
      ]
     },
     "execution_count": 108,
     "metadata": {},
     "output_type": "execute_result"
    }
   ],
   "source": [
    "placement() == 2971.89"
   ]
  },
  {
   "cell_type": "markdown",
   "metadata": {},
   "source": [
    "2. Modifier la fonction précédente en une fonction `placement_bancaire` de telle sorte qu'elle puisse fonctionner avec n'importe quel placement initial, n'importe quel taux et sur n'importe quelle durée."
   ]
  },
  {
   "cell_type": "code",
   "execution_count": 109,
   "metadata": {},
   "outputs": [],
   "source": [
    "def placement_bancaire(somme, taux, duree):\n",
    "    for annee in range(duree):\n",
    "        somme = somme * (1 + taux/100)\n",
    "    return round(somme,2)"
   ]
  },
  {
   "cell_type": "markdown",
   "metadata": {},
   "source": [
    "Les trois cellules suivantes permettent de tester votre fonction. Elles doivent renvoyer `True` lors de leur exécution."
   ]
  },
  {
   "cell_type": "code",
   "execution_count": 110,
   "metadata": {},
   "outputs": [
    {
     "data": {
      "text/plain": [
       "True"
      ]
     },
     "execution_count": 110,
     "metadata": {},
     "output_type": "execute_result"
    }
   ],
   "source": [
    "placement_bancaire(2000,2,20) == 2971.89"
   ]
  },
  {
   "cell_type": "code",
   "execution_count": 111,
   "metadata": {},
   "outputs": [
    {
     "data": {
      "text/plain": [
       "True"
      ]
     },
     "execution_count": 111,
     "metadata": {},
     "output_type": "execute_result"
    }
   ],
   "source": [
    "placement_bancaire(4000,2,15) == 5383.47"
   ]
  },
  {
   "cell_type": "code",
   "execution_count": 112,
   "metadata": {},
   "outputs": [
    {
     "data": {
      "text/plain": [
       "True"
      ]
     },
     "execution_count": 112,
     "metadata": {},
     "output_type": "execute_result"
    }
   ],
   "source": [
    "placement_bancaire(3000,1.75,10) == 3568.33"
   ]
  },
  {
   "cell_type": "markdown",
   "metadata": {},
   "source": [
    "<h2 class=\"alert alert-info\">Exercice 3 : jeu de rôle</h2>"
   ]
  },
  {
   "cell_type": "markdown",
   "metadata": {},
   "source": [
    "Dans un jeu, un joueur dispose de `250` points de vie. Il subit cinq attaques successives dont les valeurs sont des nombres entiers aléatoires entre `10` et `40`.\n",
    "\n",
    "1. Compléter le code de la fonction ci-dessous afin qu'elle renvoie le nombre de points de vie du joueur à l'issue de ces cinq attaques."
   ]
  },
  {
   "cell_type": "code",
   "execution_count": 113,
   "metadata": {},
   "outputs": [],
   "source": [
    "from random import randint\n",
    "\n",
    "def attaques_aléatoires_5():\n",
    "    points_vie = 250\n",
    "    for i in range(5):\n",
    "        attaque = randint(10,40)\n",
    "        points_vie = points_vie - attaque\n",
    "    return points_vie"
   ]
  },
  {
   "cell_type": "markdown",
   "metadata": {},
   "source": [
    "2. Le joueur dispose à présent d'une défense de `25`. Lorsqu'il subit une attaque de valeur `attaque`, on applique la règle suivante :\n",
    " - si la valeur de l'attaque est strictement supérieure à celle de la défense, le joueur perd `attaque - 25` points de vie ;\n",
    " - si la valeur de l'attaque est inférieure ou égale à celle de la défense, le joueur ne perd aucun point de vie.\n",
    "\n",
    "Compléter la fonction suivante afin qu'elle renvoie le nombre de points de vie du joueur à l'issue des cinq attaques précédentes."
   ]
  },
  {
   "cell_type": "code",
   "execution_count": 114,
   "metadata": {},
   "outputs": [],
   "source": [
    "from random import randint\n",
    "\n",
    "def attaques_aléatoires_5_défense():\n",
    "    points_vie = 250\n",
    "    for i in range(5):\n",
    "        attaque = randint(10,40)\n",
    "        if attaque > 25 :\n",
    "            points_vie = points_vie - ( attaque - 25)\n",
    "    return points_vie"
   ]
  },
  {
   "cell_type": "markdown",
   "metadata": {},
   "source": [
    "3. On modifie la fonction précédente en une fonction `points_vie_attaques_aléatoires_multiples_défense` pour qu'elle fonctionne avec n'importe quel nombre de points de vie, n'importe quelle défense et n'importe quel nombre d'attaques successives prenant des valeurs entières aléatoires entre deux nombres entiers prédéfinis en respectant la règle suivante :\n",
    " - si la valeur de l'attaque est strictement supérieure à celle de la défense, le joueur perd `attaque - défense` points de vie ;\n",
    " - si la valeur de l'attaque est inférieure ou égale à celle de la défense, le joueur ne perd aucun point de vie.\n",
    " - si le nombre de points de vie à l'issue de toutes les attaques est strictement négatif, on le ramène à 0.\n",
    "\n",
    "Ecrire ci-dessous le code de cette fonction où les paramètres sont définis de la façon suivante :\n",
    " - `points_vie` est le nombre de points de vie initial du joueur ;\n",
    " - `défense` est la défense du joueur ;\n",
    " - `nb_attaques` est le nombre d'attaques successives subies par le joueur ;\n",
    " - `val_min_attaque` est la valeur minimale que peut prendre une attaque ;\n",
    " - `val_max_attaque` est la valeur maximale que peut prendre une attaque.\n",
    "\n",
    "Tous les paramètres de la fonction sont des nombres entiers strictement positifs."
   ]
  },
  {
   "cell_type": "code",
   "execution_count": 117,
   "metadata": {},
   "outputs": [
    {
     "data": {
      "text/plain": [
       "238"
      ]
     },
     "execution_count": 117,
     "metadata": {},
     "output_type": "execute_result"
    }
   ],
   "source": [
    "from random import randint\n",
    "\n",
    "def points_vie_attaques_aléatoires_multiples_défense(points_vie,defense,nb_attaques,val_min_attaque,val_max_attaque):\n",
    "    for i in range(nb_attaques):\n",
    "        attaque = randint(val_min_attaque,val_max_attaque)\n",
    "        if attaque > defense :\n",
    "            points_vie = points_vie - ( attaque - defense)\n",
    "    return points_vie\n",
    "\n",
    "points_vie_attaques_aléatoires_multiples_défense(250, 25, 5, 10, 40)"
   ]
  },
  {
   "cell_type": "markdown",
   "metadata": {},
   "source": [
    "<h2 class=\"alert alert-info\">Exercice 4 : lancer d'un dé</h2>"
   ]
  },
  {
   "cell_type": "markdown",
   "metadata": {},
   "source": [
    "On lance $50$ fois un dé équilibré à six faces numérotées de $1$ à $6$ et on regarde le nombre de fois où on a obtenu $6$.\n",
    "\n",
    "Compléter la fonction suivante afin de simuler cette expérience."
   ]
  },
  {
   "cell_type": "code",
   "execution_count": 119,
   "metadata": {},
   "outputs": [],
   "source": [
    "from random import randint\n",
    "\n",
    "def lancers_50_dé_6():\n",
    "    nb6 = 0 # initialisation du compteur donnant le nombre de 6 obtenu\n",
    "    for lancer in range(50):\n",
    "        face = randint(1,6)\n",
    "        if face == 6 :\n",
    "            nb6 = nb6 + 1\n",
    "    return nb6"
   ]
  },
  {
   "cell_type": "markdown",
   "metadata": {},
   "source": [
    "<h2 class=\"alert alert-info\">Exercice 5 : pile ou face</h2>"
   ]
  },
  {
   "cell_type": "markdown",
   "metadata": {},
   "source": [
    "Compléter la fonction suivante simulant le jeu du Pile ou Face avec une pièce équilibrée et renvoyant pour un nombre de lancers `nb_lancers` donné la fréquence d'apparition du Pile."
   ]
  },
  {
   "cell_type": "code",
   "execution_count": null,
   "metadata": {},
   "outputs": [],
   "source": []
  },
  {
   "cell_type": "code",
   "execution_count": 48,
   "metadata": {},
   "outputs": [
    {
     "name": "stdout",
     "output_type": "stream",
     "text": [
      "1\n",
      "0\n",
      "1\n",
      "1\n",
      "0\n"
     ]
    },
    {
     "data": {
      "text/plain": [
       "2"
      ]
     },
     "execution_count": 48,
     "metadata": {},
     "output_type": "execute_result"
    }
   ],
   "source": [
    "from random import randint\n",
    "    \n",
    "def freq_pile(nb_lancers):\n",
    "    nb_pile = 0\n",
    "    for i in range(nb_lancers) :\n",
    "        piece = randint(0,1)\n",
    "        if piece == 0 :\n",
    "            nb_pile = nb_pile + 1\n",
    "        print(piece)\n",
    "    return nb_pile\n",
    "\n",
    "freq_pile(5)"
   ]
  },
  {
   "cell_type": "markdown",
   "metadata": {},
   "source": [
    "<h2 class=\"alert alert-warning\"><center>Pour aller plus loin</center></h2>"
   ]
  },
  {
   "cell_type": "markdown",
   "metadata": {},
   "source": [
    "<h2 class=\"alert alert-info\">Exercice 1 : flux de populations</h2>"
   ]
  },
  {
   "cell_type": "markdown",
   "metadata": {},
   "source": [
    "On considère un flux de populations entre trois zones géographiques $A$, $B$ et $C$ sous les conditions suivantes :\n",
    " - La population totale des trois zones reste constante au cours du temps.\n",
    " - Chaque année, la zone $A$ perd $20\\%$ de sa population au profit de la zone $B$ et $10\\%$ de sa population au profit de la zone $C$.\n",
    " - Chaque année, la zone $B$ perd $15\\%$ de sa population au profit de la zone $A$ et $5\\%$ de sa population au profit de la zone $C$.\n",
    " - Chaque année, la zone $C$ perd $25\\%$ de sa population au profit de la zone $A$ et $10\\%$ de sa population au profit de la zone $B$.\n",
    "\n",
    "Le tableau suivant donne les populations initiales des trois zones :"
   ]
  },
  {
   "cell_type": "markdown",
   "metadata": {},
   "source": [
    "| Zone A | Zone B | Zone C |\n",
    "| :----: | :----: | :----: |\n",
    "| 100 000 | 80 000 | 120 000 |"
   ]
  },
  {
   "cell_type": "markdown",
   "metadata": {},
   "source": [
    "Compléter la fonction ci-dessous de telle sorte qu'elle renvoie les populations des trois zones $A$, $B$ et $C$ dans cet ordre au bout de `nb_années` années."
   ]
  },
  {
   "cell_type": "code",
   "execution_count": 43,
   "metadata": {},
   "outputs": [
    {
     "data": {
      "text/plain": [
       "(114624.07499999998, 128251.85, 57124.075)"
      ]
     },
     "execution_count": 43,
     "metadata": {},
     "output_type": "execute_result"
    }
   ],
   "source": [
    "def evolution_pop(nb_années):\n",
    "    assert nb_années >= 0 # test d'assertion sur nb_années\n",
    "    popA = 100000 # population initiale de la zone A\n",
    "    popB = 80000 # population initiale de la zone B\n",
    "    popC = 120000 # population initiale de la zone C\n",
    "    for annee in range(nb_années):\n",
    "        popA_temp = popA - popA*0.2 - popA*0.1 + popB*0.15 + popC*0.25 # calcul de la nouvelle population de la zone A\n",
    "        popB_temp = popB - popB*0.15 - popB*0.05 + popA*0.2 + popC*0.1\n",
    "        popC_temp = popC - popC*0.25 - popC*0.1 + popA*0.1 + popB*0.05\n",
    "        popA = popA_temp\n",
    "        popB = popB_temp\n",
    "        popC = popC_temp\n",
    "    return popA, popB, popC\n",
    "\n",
    "evolution_pop(5)"
   ]
  },
  {
   "cell_type": "markdown",
   "metadata": {},
   "source": [
    "Les trois cellules suivantes permettent de tester votre fonction. Elles doivent renvoyer `True` lors de leur exécution."
   ]
  },
  {
   "cell_type": "code",
   "execution_count": 26,
   "metadata": {},
   "outputs": [
    {
     "data": {
      "text/plain": [
       "True"
      ]
     },
     "execution_count": 26,
     "metadata": {},
     "output_type": "execute_result"
    }
   ],
   "source": [
    "evolution_pop(0) == (100000,80000,120000)"
   ]
  },
  {
   "cell_type": "code",
   "execution_count": 40,
   "metadata": {},
   "outputs": [
    {
     "data": {
      "text/plain": [
       "True"
      ]
     },
     "execution_count": 40,
     "metadata": {},
     "output_type": "execute_result"
    }
   ],
   "source": [
    "evolution_pop(3) == (116270.0, 117460.0, 66270.0)"
   ]
  },
  {
   "cell_type": "code",
   "execution_count": 41,
   "metadata": {},
   "outputs": [
    {
     "data": {
      "text/plain": [
       "False"
      ]
     },
     "execution_count": 41,
     "metadata": {},
     "output_type": "execute_result"
    }
   ],
   "source": [
    "evolution_pop(5) == (114624.07499999998, 128251.85000000002, 57124.075000000004)"
   ]
  },
  {
   "cell_type": "markdown",
   "metadata": {},
   "source": [
    "<h2 class=\"alert alert-info\">Exercice 2 : suite de Syracuse (partie 2)</h2>"
   ]
  },
  {
   "cell_type": "markdown",
   "metadata": {},
   "source": [
    "On considère la suite $(u_n)$ d'entiers naturels définie de la façon suivante :\n",
    "<center>$u_0\\in\\mathbb N^*$ et, pour tout $n\\geq0$ : $u_{n+1}=\\begin{cases}\\dfrac{u_n}{2}&\\text{si }u_n\\text{ est pair}\\\\\n",
    "3u_n+1&\\text{si }u_n\\text{ est impair}\\end{cases}$</center>\n",
    "<br><br>\n",
    "En s'aidant de la fonction écrite à l'exercice 5 de l'activité sur les embranchements simples, compléter ci-dessous la fonction <code>syracuse</code> qui prend en paramètre des entiers <code>val</code> et <code>n</code> et qui renvoie le terme de la suite de rang <code>n</code> définie à partir de la condition initiale $u_0=$<code>val</code>."
   ]
  },
  {
   "cell_type": "code",
   "execution_count": 53,
   "metadata": {},
   "outputs": [
    {
     "data": {
      "text/plain": [
       "2.0"
      ]
     },
     "execution_count": 53,
     "metadata": {},
     "output_type": "execute_result"
    }
   ],
   "source": [
    "def syracuse(val,n):\n",
    "    assert type(val) == int and val > 0 # test d'assertion sur val\n",
    "    assert type(n)== int and n >= 0 # test d'assertion sur n\n",
    "    u = val # initialisation de la suite (u_n)\n",
    "    for i in range(1,n+1):\n",
    "        if val % 2 == 0 :\n",
    "            val = val/2\n",
    "        else :\n",
    "            val = 3*val + 1\n",
    "    return val\n",
    "\n",
    "syracuse(10,5)"
   ]
  },
  {
   "cell_type": "markdown",
   "metadata": {},
   "source": [
    "Les trois cellules suivantes permettent de tester votre fonction. Elles doivent renvoyer `True` lors de leur exécution."
   ]
  },
  {
   "cell_type": "code",
   "execution_count": 54,
   "metadata": {},
   "outputs": [
    {
     "data": {
      "text/plain": [
       "True"
      ]
     },
     "execution_count": 54,
     "metadata": {},
     "output_type": "execute_result"
    }
   ],
   "source": [
    "syracuse(8,6) == 1"
   ]
  },
  {
   "cell_type": "code",
   "execution_count": 55,
   "metadata": {},
   "outputs": [
    {
     "data": {
      "text/plain": [
       "True"
      ]
     },
     "execution_count": 55,
     "metadata": {},
     "output_type": "execute_result"
    }
   ],
   "source": [
    "syracuse(54,14) == 161"
   ]
  },
  {
   "cell_type": "code",
   "execution_count": 56,
   "metadata": {},
   "outputs": [
    {
     "data": {
      "text/plain": [
       "True"
      ]
     },
     "execution_count": 56,
     "metadata": {},
     "output_type": "execute_result"
    }
   ],
   "source": [
    "syracuse(478,12) == 911"
   ]
  },
  {
   "cell_type": "markdown",
   "metadata": {},
   "source": [
    "<h2 class=\"alert alert-info\">Exercice 3 : lancer de deux dés</h2>"
   ]
  },
  {
   "cell_type": "markdown",
   "metadata": {},
   "source": [
    "On lance $25$ fois deux dés équilibrés à six faces numérotées de $1$ à $6$ et on regarde le nombre de fois où on a obtenu deux faces identiques.\n",
    "\n",
    "En s'aidant de la fonction écrite à l'exercice précédent, écrire une fonction `lancers_25_deux_dés_faces_identiques` permettant de simuler cette expérience."
   ]
  },
  {
   "cell_type": "code",
   "execution_count": 66,
   "metadata": {},
   "outputs": [
    {
     "name": "stdout",
     "output_type": "stream",
     "text": [
      "1 5\n",
      "5 4\n",
      "4 4\n",
      "5 2\n",
      "6 1\n"
     ]
    },
    {
     "data": {
      "text/plain": [
       "1"
      ]
     },
     "execution_count": 66,
     "metadata": {},
     "output_type": "execute_result"
    }
   ],
   "source": [
    "from random import randint\n",
    "\n",
    "def lancers_25_deux_dés_faces_identiques():\n",
    "    dé1 = 0\n",
    "    dé2 = 1\n",
    "    nb_identique = 0\n",
    "    for i in range(25):\n",
    "        dé1 = randint(1,6)\n",
    "        dé2 = randint(1,6)\n",
    "        print(dé1, dé2)\n",
    "        if dé1 == dé2 :\n",
    "            nb_identique = nb_identique + 1\n",
    "    return nb_identique\n",
    "        \n",
    "lancers_25_deux_dés_faces_identiques()"
   ]
  },
  {
   "cell_type": "markdown",
   "metadata": {},
   "source": [
    "<h2 class=\"alert alert-info\">Exercice 4 : méthode de Monte-Carlo</h2>"
   ]
  },
  {
   "cell_type": "markdown",
   "metadata": {},
   "source": [
    "On considère le disque de centre $O$ et de rayon $1$, ainsi que le carré circonscrit à ce disque.\n",
    "\n",
    "On choisit au hasard $n$ points dans le carré et on regarde la fréquence d'apparition de ces points à l'intérieur du disque.\n",
    "\n",
    "1. En s'aidant des fonctions écrites ci-dessus, écrire une fonction `monte_carlo` permettant de simuler cette expérience.\n",
    "2. Que peut-on dire de cette fréquence lors le nombre de points choisis est très grand ?"
   ]
  },
  {
   "cell_type": "code",
   "execution_count": 102,
   "metadata": {},
   "outputs": [
    {
     "data": {
      "text/plain": [
       "(384, 'Sur 500 points', 76.8)"
      ]
     },
     "execution_count": 102,
     "metadata": {},
     "output_type": "execute_result"
    }
   ],
   "source": [
    "from random import uniform\n",
    "    \n",
    "def monte_carlo(nb_points):\n",
    "    surface_disque = 3.14\n",
    "    surface_carré = 4\n",
    "    nb_interieur = 0\n",
    "    point = 0\n",
    "    for i in range(nb_points):\n",
    "        point = uniform(0,4)\n",
    "        if point < 3.14 :\n",
    "            nb_interieur = nb_interieur + 1\n",
    "    pourcent = nb_interieur / nb_points * 100\n",
    "    return nb_interieur, (\"Sur \" + str(nb_points) + \" points\"), pourcent\n",
    "    \n",
    "monte_carlo(500)"
   ]
  },
  {
   "cell_type": "markdown",
   "metadata": {},
   "source": [
    "<a rel=\"license\" href=\"http://creativecommons.org/licenses/by-sa/4.0/\"><img alt=\"Licence Creative Commons\" style=\"border-width:0\" src=\"https://i.creativecommons.org/l/by-sa/4.0/88x31.png\" /></a><br />Ce document  est mis à disposition selon les termes de la <a rel=\"license\" href=\"http://creativecommons.org/licenses/by-sa/4.0/\">Licence Creative Commons Attribution -  Partage dans les Mêmes Conditions 4.0 International</a>.\n",
    "Pour toute question : <a href=\"mailto:charles.poulmaire@ac-versailles.fr\">charles.poulmaire@ac-versailles.fr</a> ou <a href=\"mailto:pascal.remy@ac-versailles.fr\">pascal.remy@ac-versailles.fr</a>"
   ]
  }
 ],
 "metadata": {
  "kernelspec": {
   "display_name": "Python 3 (ipykernel)",
   "language": "python",
   "name": "python3"
  },
  "language_info": {
   "codemirror_mode": {
    "name": "ipython",
    "version": 3
   },
   "file_extension": ".py",
   "mimetype": "text/x-python",
   "name": "python",
   "nbconvert_exporter": "python",
   "pygments_lexer": "ipython3",
   "version": "3.11.5"
  }
 },
 "nbformat": 4,
 "nbformat_minor": 2
}
