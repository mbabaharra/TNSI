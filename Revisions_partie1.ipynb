{
 "cells": [
  {
   "cell_type": "markdown",
   "id": "003140ac",
   "metadata": {},
   "source": [
    "# Révisions des bases en python et exercices"
   ]
  },
  {
   "cell_type": "markdown",
   "id": "ec35f428",
   "metadata": {},
   "source": [
    "<font color=\"red\"><h2>1ère partie : affichage - répétitions d'instruction - Les variables - lecture d'une entrée</h2></font>"
   ]
  },
  {
   "cell_type": "markdown",
   "id": "ddfa2d26",
   "metadata": {},
   "source": [
    "Répondez aux questions ci-dessous en écrivant le code correspondant dans les cellules"
   ]
  },
  {
   "cell_type": "markdown",
   "id": "7efb5ec4",
   "metadata": {},
   "source": [
    "<div class=\"alert alert-info\">\n",
    "    \n",
    "1-  Ecrivez le code permettant d'afficher :`\" Bonjour je suis en terminale spécialité NSI\"`"
   ]
  },
  {
   "cell_type": "code",
   "execution_count": null,
   "id": "dc48799d",
   "metadata": {},
   "outputs": [],
   "source": [
    "# votre code ci-dessous\n"
   ]
  },
  {
   "cell_type": "markdown",
   "id": "28d6f605",
   "metadata": {},
   "source": [
    "<div class=\"alert alert-info\">\n",
    "\n",
    "2- Ecrivez le code qui permettra d'écrire 20 fois : `\"Bonjour\"`"
   ]
  },
  {
   "cell_type": "code",
   "execution_count": null,
   "id": "9e0827c3",
   "metadata": {},
   "outputs": [],
   "source": [
    "# votre code ci-dessous\n"
   ]
  },
  {
   "cell_type": "markdown",
   "id": "01fe2917",
   "metadata": {},
   "source": [
    "<div class=\"alert alert-info\">\n",
    "    \n",
    "3- Ecrire un programme qui permet d'afficher trois fois : `\"Bonjour !\"`  et une fois `\"Comment vas-tu ?\"`"
   ]
  },
  {
   "cell_type": "code",
   "execution_count": null,
   "id": "8af10bb3",
   "metadata": {},
   "outputs": [],
   "source": [
    "# votre code ci-dessous\n"
   ]
  },
  {
   "cell_type": "markdown",
   "id": "2acc00d0",
   "metadata": {},
   "source": [
    "<div class=\"alert alert-info\">4- Ecrivez le programme qui permet d'afficher un rectangle rempli de X de 5 lignes sur 10 colonnes.\n",
    "\n",
    "    \n",
    "    XXXXXXXXXX  \n",
    "    XXXXXXXXXX  \n",
    "    XXXXXXXXXX  \n",
    "    XXXXXXXXXX  \n",
    "    XXXXXXXXXX"
   ]
  },
  {
   "cell_type": "code",
   "execution_count": null,
   "id": "e644c2df",
   "metadata": {},
   "outputs": [],
   "source": [
    "# votre code ci-dessous\n"
   ]
  },
  {
   "cell_type": "markdown",
   "id": "f384d2da",
   "metadata": {},
   "source": [
    "<div class=\"alert alert-info\">5- L'algoréathlon se constitue de trois étapes à effectuer chaque jour : 2 km de natation, 34 km de cyclisme et 6 km de course à pied.<br/>\n",
    "Sachant qu'un sportif répète ces trois étapes pendant 3 jours de suite, vous devez afficher la distance totale qu'il a parcourue à la fin du 1er jour, à la fin du 2e jour, puis à la fin de l'algoréathlon complet.<br/>\n",
    "<br/>\n",
    "Afin de rendre l'affichage convivial, vous souhaitez mettre les trois valeurs sur une même ligne, avec une espace entre chaque valeur et la suivante.<br/>\n",
    "Important : pour écrire ce programme, vous devez mémoriser la distance parcourue en un jour en lui donnant un nom, puis utiliser ce nom pour calculer les trois réponses. "
   ]
  },
  {
   "cell_type": "code",
   "execution_count": null,
   "id": "4b753db1",
   "metadata": {},
   "outputs": [],
   "source": [
    "# votre code ci-dessous\n"
   ]
  },
  {
   "cell_type": "markdown",
   "id": "b017ec57",
   "metadata": {},
   "source": [
    "<div class=\"alert alert-info\">6- Voici à quoi ressemble la table de multiplication allant jusqu'à 5 fois 5.<br/>\n",
    "\n",
    "    1 2 3 4 5\n",
    "    2 4 6 8 10\n",
    "    3 6 9 12 15\n",
    "    4 8 12 16 20\n",
    "    5 10 15 20 25\n",
    "    \n",
    "Écrivez un programme qui affiche une table de multiplication allant jusqu'à 20 fois 20.\n",
    "    \n",
    "    Pour vous aider à résoudre cet exercice, répondez aux questions suivantes : \n",
    "    Dois-je utiliser une ou des variables, et si oui quelles sont leurs rôles ?\n",
    "    Dois-je modifier les valeurs de ces variables ? Et si oui comment ?\n",
    "    Dois-je faire une ou des boucles et si oui,  de combien de tours ?\n",
    "    Comment vais-je afficher le résultat ?"
   ]
  },
  {
   "cell_type": "code",
   "execution_count": null,
   "id": "62147aac",
   "metadata": {},
   "outputs": [],
   "source": [
    "# votre code ci-dessous\n"
   ]
  },
  {
   "cell_type": "markdown",
   "id": "63474ebe",
   "metadata": {},
   "source": [
    "<div class=\"alert alert-info\">\n",
    "    \n",
    "7- Votre programme doit demander un entier à l'utilisateur qui représente le nombre de lignes souhaité, et écrira autant de fois que demandé la phrase `« Je dois suivre en cours »`.<br/><br/>\n",
    "\n",
    "    Exemple\n",
    "    entrée :\n",
    "    3\n",
    "    sortie :\n",
    "    Je dois suivre en cours\n",
    "    Je dois suivre en cours\n",
    "    Je dois suivre en cours"
   ]
  },
  {
   "cell_type": "code",
   "execution_count": null,
   "id": "cfc77977",
   "metadata": {},
   "outputs": [],
   "source": [
    "# votre code ci-dessous\n"
   ]
  },
  {
   "cell_type": "markdown",
   "id": "a4e225d9",
   "metadata": {},
   "source": [
    "<div class=\"alert alert-info\">8- Quelle est le type de l'expression donnée ci-dessous ?"
   ]
  },
  {
   "cell_type": "code",
   "execution_count": null,
   "id": "cfad40ab",
   "metadata": {},
   "outputs": [],
   "source": [
    "# Exécutez la cellule\n",
    "a = (1<3)\n",
    "print(a)"
   ]
  },
  {
   "cell_type": "raw",
   "id": "1b75bfaf",
   "metadata": {},
   "source": [
    "votre réponse\n"
   ]
  },
  {
   "cell_type": "markdown",
   "id": "17ab3eff",
   "metadata": {},
   "source": [
    "<div class=\"alert alert-info\"> 9- Exécuter chacune des *cellules Code* suivantes :"
   ]
  },
  {
   "cell_type": "code",
   "execution_count": null,
   "id": "4fdf216b",
   "metadata": {},
   "outputs": [],
   "source": [
    "# expression 1\n",
    "(5<3) and (3!=2)"
   ]
  },
  {
   "cell_type": "code",
   "execution_count": null,
   "id": "3ad4876d",
   "metadata": {},
   "outputs": [],
   "source": [
    "# expression 2\n",
    "(15//2==1) and (15%2==0)"
   ]
  },
  {
   "cell_type": "markdown",
   "id": "03a3db07",
   "metadata": {},
   "source": [
    "<div class=\"alert alert-info\"><b>Modifier les expressions 1 et 2 pour qu'elles renvoient l'opposé du résultat actuel.</b><br/>\n",
    "Qu'en concluez-vous quand au rôle de l'opérateur AND ?"
   ]
  },
  {
   "cell_type": "raw",
   "id": "1d02446e",
   "metadata": {},
   "source": [
    "Votre réponse ci-dessous\n"
   ]
  },
  {
   "cell_type": "code",
   "execution_count": null,
   "id": "78b3cc4c",
   "metadata": {},
   "outputs": [],
   "source": [
    "# expression 3\n",
    "x=1\n",
    "(x<2) or (x==3)"
   ]
  },
  {
   "cell_type": "markdown",
   "id": "1bf4b4f4",
   "metadata": {},
   "source": [
    "<div class=\"alert alert-info\"><b>Modifier l'expression 3 pour qu'elle renvoie l'opposé du résultat actuel.</b><br/>\n",
    "Qu'en concluez-vous quand au rôle de l'opérateur OR ?"
   ]
  },
  {
   "cell_type": "raw",
   "id": "7b72e6fc",
   "metadata": {},
   "source": [
    "Votre réponse ci-dessous\n"
   ]
  },
  {
   "cell_type": "code",
   "execution_count": null,
   "id": "a43ad6f8",
   "metadata": {},
   "outputs": [],
   "source": [
    "# expression 4\n",
    "not(2==4)"
   ]
  },
  {
   "cell_type": "markdown",
   "id": "4c21ad59",
   "metadata": {},
   "source": [
    "<div class=\"alert alert-info\"><b>Modifier l'expression 4 pour qu'elle renvoie l'opposé du résultat actuel.</b><br/>\n",
    "Qu'en concluez-vous quand au rôle de l'opérateur NOT ?"
   ]
  },
  {
   "cell_type": "raw",
   "id": "33cf818f",
   "metadata": {},
   "source": [
    "Votre réponse ci-dessous\n"
   ]
  },
  {
   "cell_type": "markdown",
   "id": "81a45d63",
   "metadata": {},
   "source": [
    "<div class=\"alert alert-info\">10- Votre programme doit demander deux entiers, compris entre 1 et 6, la valeur de chaque dé. <br/>\n",
    "    Si la somme est supérieure ou égale à 10, alors vous devez payer une taxe spéciale (36 pièces). <br/>\n",
    "    Sinon, vous payez deux fois la somme des valeurs des deux dés. <br/>\n",
    "    Votre programme devra afficher selon le cas le texte « Taxe spéciale ! » ou bien « Taxe régulière », puis la somme à payer (sans indiquer l'unité).\n",
    "    \n",
    "    Réfléchissez aux variables dont vous aurez besoin\n",
    "    Quel(s) test(s) allez-vous effectuer ?\n",
    "    Que devez-vous afficher en cas de réussite à ces tests ? et en cas d'échec ?"
   ]
  },
  {
   "cell_type": "code",
   "execution_count": null,
   "id": "20db0c3a",
   "metadata": {},
   "outputs": [],
   "source": [
    "# votre code ci-dessous\n"
   ]
  },
  {
   "cell_type": "markdown",
   "id": "93ac0425",
   "metadata": {},
   "source": [
    "<font color=\"red\"><h2>2ème partie : les boucles</h2></font>"
   ]
  },
  {
   "cell_type": "markdown",
   "id": "b075fd0f",
   "metadata": {},
   "source": [
    "<b><span style='color:red'>Précisions sur la boucle for</span></b>"
   ]
  },
  {
   "cell_type": "code",
   "execution_count": null,
   "id": "63765e2c",
   "metadata": {},
   "outputs": [],
   "source": [
    "# tester le code ci-dessous\n",
    "nombre = 0\n",
    "for loop in range(10):\n",
    "   print(nombre)\n",
    "   nombre = nombre + 1"
   ]
  },
  {
   "cell_type": "markdown",
   "id": "a48b2733",
   "metadata": {},
   "source": [
    "On peut réaliser la même chose d'une manière bien plus simple."
   ]
  },
  {
   "cell_type": "code",
   "execution_count": null,
   "id": "a058cde0",
   "metadata": {},
   "outputs": [],
   "source": [
    "# tester le code ci-dessous\n",
    "for loop in range(10):\n",
    "   print(loop)"
   ]
  },
  {
   "cell_type": "markdown",
   "id": "ce827720",
   "metadata": {},
   "source": [
    "En effet, loop est en fait une variable ! On peut donc l'utiliser comme n'importe quelle variable, en particulier pour l'afficher. On peut également utiliser un autre nom de variable "
   ]
  },
  {
   "cell_type": "code",
   "execution_count": null,
   "id": "692ec8b7",
   "metadata": {},
   "outputs": [],
   "source": [
    "# tester les codes suivants\n",
    "for nombre in range(10):\n",
    "   print(nombre)\n",
    "print()\n",
    "for i in range(7):\n",
    "   print(i)"
   ]
  },
  {
   "cell_type": "markdown",
   "id": "9b8567fb",
   "metadata": {},
   "source": [
    "En pratique range(10) se comporte comme la suite de valeurs 0, 1, ..., 9 et ce code revient à dire :<br/>\n",
    "Pour chaque valeur dans [0, 1, ..., 9] affecter cette valeur à la variable \"nombre\" et Afficher le contenu de la variable \"nombre\"<br/>\n"
   ]
  },
  {
   "cell_type": "markdown",
   "id": "6aaa59fd",
   "metadata": {},
   "source": [
    "On peut visualiser la suite de valeur contenue dans le range<br/>\n",
    "<b>Tester les codes ci-dessous</b>"
   ]
  },
  {
   "cell_type": "code",
   "execution_count": null,
   "id": "2fffe9f0",
   "metadata": {},
   "outputs": [],
   "source": [
    "list(range(5))"
   ]
  },
  {
   "cell_type": "code",
   "execution_count": null,
   "id": "c96e64c8",
   "metadata": {},
   "outputs": [],
   "source": [
    "list(range(3,7))"
   ]
  },
  {
   "cell_type": "code",
   "execution_count": null,
   "id": "e74afac4",
   "metadata": {},
   "outputs": [],
   "source": [
    "list(range(1,10,2))"
   ]
  },
  {
   "cell_type": "code",
   "execution_count": null,
   "id": "0fcdcfe9",
   "metadata": {},
   "outputs": [],
   "source": [
    "list(range(5,0,-1))"
   ]
  },
  {
   "cell_type": "markdown",
   "id": "4f8e1ca6",
   "metadata": {},
   "source": [
    "La fonction *range()* peut être utilisée avec 3 paramètres *debut*, *fin* et *pas* : **range(debut,fin,pas)**. <br/>L'entier *debut* est compris, l'entier *fin* est **exclu**.<br/><br/>\n",
    "La fonction *range()* peut être utilisée avec 2 paramètres *debut* et *fin* : *range(debut,fin)*. Dans ce cas, le *pas* est égal à 1 par défaut.<br/><br/>\n",
    "La fonction *range()* peut être utilisée avec 1 seul paramètre *fin* : *range(fin)*. Dans ce cas, *debut* est ègal à 0 par défaut, et *pas* à 1 par défaut.\n",
    "\n",
    "<span style='color:blue'>**Application** </span> :\n",
    "\n",
    "A l'aide de la combinaison *list(range())*, obtenir dans chacune des *cellules* ci-dessous, les listes suivantes :\n",
    "\n",
    "* $[2,4,6,8,10,12]$\n",
    "* $[10,8,6,4,2]$\n",
    "* $[3,6,9,12]$\n",
    "* $[0,1,2,3,4,5]$"
   ]
  },
  {
   "cell_type": "code",
   "execution_count": null,
   "id": "dbdb7835",
   "metadata": {},
   "outputs": [],
   "source": []
  },
  {
   "cell_type": "code",
   "execution_count": null,
   "id": "b2b02dd8",
   "metadata": {},
   "outputs": [],
   "source": []
  },
  {
   "cell_type": "code",
   "execution_count": null,
   "id": "73d8d8ef",
   "metadata": {},
   "outputs": [],
   "source": []
  },
  {
   "cell_type": "code",
   "execution_count": null,
   "id": "cd8358c6",
   "metadata": {},
   "outputs": [],
   "source": []
  },
  {
   "cell_type": "markdown",
   "id": "be462cdf",
   "metadata": {},
   "source": [
    "<div class=\"alert alert-info\">11- Ecrivez le programme pour afficher le calendrier des 31 jours de janvier.<br/>\n",
    "On veut l'affichage suivant :<br/>\n",
    "1 janvier<br/>\n",
    "2 janvier<br/>\n",
    "3 janvier<br/>\n",
    "...<br/>\n",
    "31 janvier<br/>\n",
    "</div>"
   ]
  },
  {
   "cell_type": "code",
   "execution_count": null,
   "id": "cdf98d21",
   "metadata": {},
   "outputs": [],
   "source": [
    "# votre code ci-dessous\n"
   ]
  },
  {
   "cell_type": "markdown",
   "id": "8156096e",
   "metadata": {},
   "source": [
    "<h3>Utilisation de la variable de boucle : Notion d'accumulateur</h3>"
   ]
  },
  {
   "cell_type": "code",
   "execution_count": null,
   "id": "5d6d10e0",
   "metadata": {},
   "outputs": [],
   "source": [
    "for i in range(10):\n",
    "    print(i)\n",
    "print(i)"
   ]
  },
  {
   "cell_type": "markdown",
   "id": "99af0992",
   "metadata": {},
   "source": [
    "Comme le montre l'exemple ci-dessus, la variable i est considéré comme une variable de boucle, c'est une variable ordinaire qui a initialement la valeur 0 et qui est incrémentée de 1 à chaque tour de la boucle. On peut choisir n'importe quel noms pour cette variable. Des noms tels que i, j, k, m, n, index ou compteur sont fréquemment utilisés.<br/>\n",
    "La variable de boucle est aussi appelée \"<b>compteur de boucle</b>\". Elle permet de savoir combien de tours de boucle ont déjà été effectués."
   ]
  },
  {
   "cell_type": "markdown",
   "id": "92363013",
   "metadata": {},
   "source": [
    "Le compteur de boucle permet de mettre en place un **accumulateur**, c'est-à-dire une variable qui est utilisée pour stocker les différents résultats successifs d'un calcul qui avance progressivement à chaque tour de boucle. On économise ainsi de la mémoire : on ne garde en mémoire par exemple que la somme des valeurs déjà rencontrées ou le dernier état, et non tous les états intermédiaires.<br>\n",
    "La variable qui sert d'accumulateur doit être initialisée avant la boucle."
   ]
  },
  {
   "cell_type": "markdown",
   "id": "3e756863",
   "metadata": {},
   "source": [
    "<strong>Exemple : calcul de la somme des entiers de 1 à 100</strong>"
   ]
  },
  {
   "cell_type": "code",
   "execution_count": null,
   "id": "759170da",
   "metadata": {},
   "outputs": [],
   "source": [
    "somme = 0 # La variable somme joue le rôle de l'accumulateur\n",
    "for i in range(101):\n",
    "    somme = somme + i   # à chaque tour de boucle, on met à jour la valeur de l'accumulateur en lui ajoutant i\n",
    "print(somme)      # On affiche la valeur finale de l'accumulateur"
   ]
  },
  {
   "cell_type": "markdown",
   "id": "38422375",
   "metadata": {},
   "source": [
    "Remarque : il existe une formule qui permet de calculer cette somme sans effectuer toutes les additions, qui sera vue en cours de Spécialité Maths : $1+2+3+...+n = \\frac{n(n+1)}{2}$."
   ]
  },
  {
   "cell_type": "markdown",
   "id": "c50e100f",
   "metadata": {},
   "source": [
    "<div class=\"alert alert-info\">12 - Ecrire un programme qui demande 5 notes à l'utilisateur et qui affiche la moyenne de ces notes.</div>"
   ]
  },
  {
   "cell_type": "code",
   "execution_count": null,
   "id": "c034253e",
   "metadata": {},
   "outputs": [],
   "source": [
    "# votre code ci-dessous\n"
   ]
  },
  {
   "cell_type": "markdown",
   "id": "52fb0fe3",
   "metadata": {},
   "source": [
    "<div class=\"alert alert-info\">13- Ecrire un programme qui demande à l'utilisateur un entier a et un entier n et qui calcule $a^n$ à l'aide d'une boucle <code>for</code><br>\n",
    "Remarque : il est interdit d'utiliser ** ici ! "
   ]
  },
  {
   "cell_type": "code",
   "execution_count": null,
   "id": "df724e9a",
   "metadata": {},
   "outputs": [],
   "source": [
    "# votre code ci-dessous\n"
   ]
  },
  {
   "cell_type": "markdown",
   "id": "76b439e2",
   "metadata": {},
   "source": [
    "<b><span style='color:red'>La boucle while : une répétition conditionnée</span></b>"
   ]
  },
  {
   "cell_type": "code",
   "execution_count": null,
   "id": "463914ca",
   "metadata": {},
   "outputs": [],
   "source": [
    "# Tester le code ci-dessous\n",
    "i = 0\n",
    "while i < 5:\n",
    "    print(i)\n",
    "    i= i + 1\n",
    "print(\"Fini !\")"
   ]
  },
  {
   "cell_type": "markdown",
   "id": "8a46b3e2",
   "metadata": {},
   "source": [
    "<div class=\"alert alert-info\">14- \n",
    "Ecrivez le programme qui demande à un utilisateur de saisir un mot de passe sous forme d'un entier tant qu'il n'a pas indiqué le mot de passe correct<br/>\n",
    "Le mot de passe correct est  : 123456. "
   ]
  },
  {
   "cell_type": "code",
   "execution_count": null,
   "id": "0a15d337",
   "metadata": {},
   "outputs": [],
   "source": [
    "# votre code ci-dessous\n"
   ]
  },
  {
   "cell_type": "markdown",
   "id": "29194757",
   "metadata": {},
   "source": [
    "<div class=\"alert alert-info\">15- \n",
    "Toutes les dépenses de l'année ont été enregistrées et classées dans une multitude de dossiers et il faut maintenant calculer la somme de toutes ces dépenses.<br/> \n",
    "Mais personne ne sait exactement combien de dépenses différentes ont été effectuées durant l'année écoulée !<br/>\n",
    "Votre programme devra demander des entiers (positifs) et afficher leur somme. On ne sait pas combien il y aura d'entiers, mais le calcul se termine toujours par la valeur -1 (qui n'est pas une dépense, juste un marqueur de fin).\n",
    "    \n",
    "    Exemple\n",
    "    entrée :\n",
    "    1000\n",
    "    2000\n",
    "    500\n",
    "    -1\n",
    "    sortie :\n",
    "    3500\n"
   ]
  },
  {
   "cell_type": "raw",
   "id": "f0cb126b",
   "metadata": {},
   "source": [
    "Réfléchissez aux variables dont vous allez avoir besoin. Comment vont-elles varier ?\n",
    "Quelle est la condition de sortie de la boucle while"
   ]
  },
  {
   "cell_type": "code",
   "execution_count": null,
   "id": "96b3b5b5",
   "metadata": {},
   "outputs": [],
   "source": [
    "# votre code ci-dessous\n"
   ]
  },
  {
   "cell_type": "markdown",
   "id": "a5ddd259",
   "metadata": {},
   "source": [
    "<font color=\"red\"><h2>3ème partie : les variables de type construit</h2>"
   ]
  },
  {
   "cell_type": "markdown",
   "id": "e4e74c02",
   "metadata": {},
   "source": [
    "<h3><span style='color:red'>Les listes</span></h3>"
   ]
  },
  {
   "cell_type": "code",
   "execution_count": null,
   "id": "07ed3cdc",
   "metadata": {},
   "outputs": [],
   "source": [
    "# exécutez le code ci-dessous\n",
    "classe = [\"première NSI\",20,\"2022\"]\n",
    "print(classe[0])\n",
    "print(classe[1])\n",
    "print(classe[2])"
   ]
  },
  {
   "cell_type": "markdown",
   "id": "9b7e422c",
   "metadata": {},
   "source": [
    "<div class=\"alert alert-info\">16 -\n",
    "Il y a 10 ingrédients dans la recette et les quantités nécessaires pour chacun sont (en grammes) : 500, 180, 650, 25, 666, 42, 421, 1, 370 et 211.\n",
    "Votre programme doit demander un entier, le numéro d'un ingrédient (compris entre 0 et 9) et afficher la quantité associée à cet ingrédient.<br/><br/>\n",
    "\n",
    "    Exemple\n",
    "    entrée :\n",
    "    3\n",
    "    sortie :\n",
    "    25\n",
    "    \n",
    "</div>"
   ]
  },
  {
   "cell_type": "code",
   "execution_count": null,
   "id": "7d2cbf0e",
   "metadata": {},
   "outputs": [],
   "source": [
    "# votre code ci-dessous\n"
   ]
  },
  {
   "cell_type": "markdown",
   "id": "6026dbc7",
   "metadata": {},
   "source": [
    "<h4>Parcourir une liste</h4>"
   ]
  },
  {
   "cell_type": "markdown",
   "id": "2056d542",
   "metadata": {},
   "source": [
    "Vous savez que les indices du tableau correspondent donc à un intervalle de valeur depuis l'indice 0.<br/> \n",
    "De plus le message d'erreur d'accès en dehors du tableau utilise le mot range<br/>\n",
    "A ce titre il forme donc un  itérable et peut donc être parcouru par une boucle for"
   ]
  },
  {
   "cell_type": "code",
   "execution_count": null,
   "id": "be58ade6",
   "metadata": {},
   "outputs": [],
   "source": [
    "# tester le code ci-dessous\n",
    "L = [24, 12, 36, 48, 7, \"Hello\", 5]\n",
    "for i in range(7):\n",
    "    print(L[i], end=\" \")"
   ]
  },
  {
   "cell_type": "markdown",
   "id": "beddb1de",
   "metadata": {},
   "source": [
    "Dans l'exemple ci-dessus, la variable de boucle i a pris les valeurs indiquées dans le range soit, 0, 1, 2, 3 et 4<br/>\n",
    "L[i] permet alors d'accéder aux différentes données contenues dans la liste L.<br/>\n",
    "<b>Ce parcours de liste est un grand classique et doit absolument être compris.</b>"
   ]
  },
  {
   "cell_type": "markdown",
   "id": "748d2453",
   "metadata": {},
   "source": [
    "<div class=\"alert alert-info\">17- \n",
    "Il y a 10 ingrédients et ils ont tous un prix au kilo différent : 9, 5, 12, 15, 7, 42, 13, 10, 1 et 20.<br/>\n",
    "Votre programme devra demander 10 entiers, le poids (en kilogrammes) qu'il faut acheter pour chaque ingrédient.<br/>\n",
    "Il devra calculer le coût total de ces achats.<br/><br/>\n",
    "    \n",
    "    Exemple\n",
    "    entrée :\n",
    "    1\n",
    "    1\n",
    "    1\n",
    "    1\n",
    "    1\n",
    "    1\n",
    "    1\n",
    "    1\n",
    "    1\n",
    "    1\n",
    "    sortie :\n",
    "    134\n",
    "    \n",
    "    ici 134 correspond à : 1x9 + 1x5 + 1x12 + 1x15 ... + 1x20\n",
    "    \n",
    "</div>\n"
   ]
  },
  {
   "cell_type": "raw",
   "id": "11040202",
   "metadata": {},
   "source": [
    "Créez une liste contenant le pris au kilo des différents ingrédients. \n",
    "Réflechissez ensuite à la boucle à écrire et à comment calculer le prix pour chaque achat en fonction du poids indiqué.\n",
    "Un accumulateur semble adéquate."
   ]
  },
  {
   "cell_type": "code",
   "execution_count": null,
   "id": "613e3f0b",
   "metadata": {},
   "outputs": [],
   "source": [
    "# votre code ci-dessous\n"
   ]
  },
  {
   "cell_type": "markdown",
   "id": "ff99cb8b",
   "metadata": {},
   "source": [
    "<h4>Modifier les élements d'une liste</h4>"
   ]
  },
  {
   "cell_type": "markdown",
   "id": "0d7cacc6",
   "metadata": {},
   "source": [
    "Comme pour toute autre variable il est bien sûr possible de modifier les éléments d'une liste.<br/> \n",
    "Par exemple si on souhaite déclarer un tableau de taille 7 puis modifier les valeurs aux indices 0 et 6, on utilise le code ci-dessous."
   ]
  },
  {
   "cell_type": "code",
   "execution_count": null,
   "id": "f21d016b",
   "metadata": {},
   "outputs": [],
   "source": [
    "# tester le code ci-dessous\n",
    "prix = [0] * 7\n",
    "print(prix)\n",
    "print()\n",
    "prix[0] = 124\n",
    "prix[6] = 421\n",
    "\n",
    "print(prix)"
   ]
  },
  {
   "cell_type": "markdown",
   "id": "4c996e3a",
   "metadata": {},
   "source": [
    "<h4>Trier une liste</h4>"
   ]
  },
  {
   "cell_type": "code",
   "execution_count": null,
   "id": "e2ff7cbc",
   "metadata": {},
   "outputs": [],
   "source": [
    "# Tester le code ci-dessous\n",
    "poids = [45, 80, 2]\n",
    "# Tri le tableau\n",
    "poids.sort()\n",
    "# Affiche le tableau\n",
    "for indice in range(3):\n",
    "   print(poids[indice])"
   ]
  },
  {
   "cell_type": "markdown",
   "id": "c80a7633",
   "metadata": {},
   "source": [
    "la méthode sort() appelée sur la liste à trier permet donc de trier la liste dans l'ordre croissant.<br/>\n",
    "Cette méthode peut être utile dans certains cas, par exemple lorsque l'on cherche la plus grande valeur d'un tableau, si on le trie, celle-ci est alors à la fin du tableau."
   ]
  },
  {
   "cell_type": "markdown",
   "id": "04dbb2bc",
   "metadata": {},
   "source": [
    "<div class=\"alert alert-info\">\n",
    "\n",
    "18- \n",
    "On démarre de la liste `hauteur` ci-dessous.    \n",
    "Que doit-on écrire pour obtenir la taille de la liste ?  \n",
    "Ecrivez alors une boucle for qui parcourt la liste hauteur et affiche ses éléments en utilisant la réponse à la question précédente.  \n",
    "Ecrivez une boucle for qui parcourt la liste sans utiliser range      "
   ]
  },
  {
   "cell_type": "code",
   "execution_count": null,
   "id": "377eb86b",
   "metadata": {},
   "outputs": [],
   "source": [
    "# Compléter le code ci-dessous pour répondre aux questions précédentes.\n",
    "hauteur = [10, 48, -5, 99, -20, 4, 32, 16, 0, 100, 42]\n",
    "\n",
    "tailleDeListe = ...\n",
    "\n",
    "for ... in range(....):\n",
    "    ....\n",
    "    \n",
    "for ....\n",
    "    ...."
   ]
  },
  {
   "cell_type": "markdown",
   "id": "2419f781",
   "metadata": {},
   "source": [
    "<div class=\"alert alert-info\">\n",
    "\n",
    "19- Ecrivez le code qui permet d'obtenir la liste `[1,2,3,4,5,6]` à partir des deux listes ci-dessous"
   ]
  },
  {
   "cell_type": "code",
   "execution_count": null,
   "id": "a95e3af0",
   "metadata": {},
   "outputs": [],
   "source": [
    "# votre code ci-dessous\n",
    "L1=[1,2,3]\n",
    "L2=[4,5,6]\n",
    "\n"
   ]
  },
  {
   "cell_type": "markdown",
   "id": "79d3881c",
   "metadata": {},
   "source": [
    "<div class=\"alert alert-info\">\n",
    "\n",
    "20- Ecrivez le code qui permet d'ajouter le chiffre 42 à la fin de la liste L1  \n",
    "Ecrivez le code qui permet de supprimer le chiffre que vous venez d'ajouter"
   ]
  },
  {
   "cell_type": "code",
   "execution_count": null,
   "id": "315f4f9a",
   "metadata": {},
   "outputs": [],
   "source": [
    "# votre code ci-dessous\n",
    "L1=[1,2,3]\n",
    "\n"
   ]
  },
  {
   "cell_type": "markdown",
   "id": "f1a97e27",
   "metadata": {},
   "source": [
    "<b>D'autres méthodes et fonctions permettant d'agir sur les listes</b><br/>"
   ]
  },
  {
   "cell_type": "markdown",
   "id": "d5706fdc",
   "metadata": {},
   "source": [
    "<b>Tester les codes ci-dessous et déduisez-en le rôle des méthodes ou fonctions présentées</b>"
   ]
  },
  {
   "cell_type": "code",
   "execution_count": null,
   "id": "c337438e",
   "metadata": {},
   "outputs": [],
   "source": [
    "liste = [22, 5, 3, 10]\n",
    "del liste[1]\n",
    "print(liste)\n",
    "print(sum(liste))\n",
    "liste.remove(3)\n",
    "print (liste) "
   ]
  },
  {
   "cell_type": "raw",
   "id": "cd0e503a",
   "metadata": {},
   "source": [
    "Vos réponses dans cette cellule\n"
   ]
  },
  {
   "cell_type": "code",
   "execution_count": null,
   "id": "efab5d5a",
   "metadata": {},
   "outputs": [],
   "source": [
    "liste = [1,2,3,4]\n",
    "liste.insert(1,22)\n",
    "print(liste)\n",
    "liste.extend([5,6])\n",
    "print(liste)"
   ]
  },
  {
   "cell_type": "raw",
   "id": "0cdf62f8",
   "metadata": {},
   "source": [
    "Vos réponses dans cette cellule\n"
   ]
  },
  {
   "cell_type": "markdown",
   "id": "cd57a4e6",
   "metadata": {},
   "source": [
    "<h4><span style='color:red'>Création d'une liste par compréhension</span></h4>"
   ]
  },
  {
   "cell_type": "markdown",
   "id": "2b1968e3",
   "metadata": {},
   "source": [
    "On peut créer une liste de différentes manières. Soit en écrivant directement ces valeurs comme dans les exemples précédents : L = [1, 2, 3] , soit par duplication par exemple : L = [0]*10<br/>\n",
    "Cependant, il existe une méthode qui permet de créer des listes rapidement, notamment lorsque'elle contiennent de nombreuses valeurs : <b>l'allocation par compréhension</b>."
   ]
  },
  {
   "cell_type": "markdown",
   "id": "5372b82d",
   "metadata": {},
   "source": [
    "On utilise la syntaxe suivante :  \n",
    "\n",
    "    ma_liste=[ val for i in range (0,f) ]\n",
    "    ma_liste est le nom de la variable\n",
    "    val est une valeur qui sera ajoutée dans la liste (f-0) fois"
   ]
  },
  {
   "cell_type": "code",
   "execution_count": null,
   "id": "e16aaa43",
   "metadata": {},
   "outputs": [],
   "source": [
    "# Tester le code ci-dessous\n",
    "ma_liste=[ 0 for i in range (0,10) ]\n",
    "print(ma_liste)"
   ]
  },
  {
   "cell_type": "markdown",
   "id": "005a6131",
   "metadata": {},
   "source": [
    "Cette création de liste par compréhension permet de rajouter une condition\n"
   ]
  },
  {
   "cell_type": "code",
   "execution_count": null,
   "id": "3bb07f14",
   "metadata": {},
   "outputs": [],
   "source": [
    "# Tester le code ci-dessous\n",
    "liste=[1,7,9,15,5,20,10,8]\n",
    "ma_liste=[ i for i in liste if i>10]\n",
    "print(ma_liste)\n",
    "print()\n",
    "ma_liste=[ i**2 for i in liste if i<10]\n",
    "print(ma_liste)"
   ]
  },
  {
   "cell_type": "markdown",
   "id": "97d9e1f1",
   "metadata": {},
   "source": [
    "<div class=\"alert alert-info\">\n",
    "    \n",
    "21- Étant donné une liste d’entiers telle que `t=[5, 2, 0, 3, 7, 10]`, construisez la liste L dont les éléments sont 10 fois les éléments de t, c’est-à-dire `[50, 20, 0, 30, 70, 100]`.\n",
    "\n",
    "</div>"
   ]
  },
  {
   "cell_type": "code",
   "execution_count": null,
   "id": "f9558279",
   "metadata": {},
   "outputs": [],
   "source": [
    "# votre code ci-dessous\n"
   ]
  },
  {
   "cell_type": "markdown",
   "id": "8edf2e26",
   "metadata": {},
   "source": [
    "<div class=\"alert alert-info\">22- \n",
    "Créer la liste des chiffres paires de 0 à 20"
   ]
  },
  {
   "cell_type": "code",
   "execution_count": null,
   "id": "7974456d",
   "metadata": {},
   "outputs": [],
   "source": [
    "# votre code ci-dessous\n"
   ]
  },
  {
   "cell_type": "markdown",
   "id": "090884db",
   "metadata": {},
   "source": [
    "<div class=\"alert alert-info\">\n",
    "    \n",
    "23- A partir de la liste suivante `L = [-4 , -2 , 0, 2, 4]` créer une nouvelle liste contenant les valeurs de la liste L doublées, puis à partir de cette nouvelle liste créer une liste contenant uniquement les valeurs positives"
   ]
  },
  {
   "cell_type": "code",
   "execution_count": null,
   "id": "5f2f27df",
   "metadata": {},
   "outputs": [],
   "source": [
    "# votre code ci-dessous\n"
   ]
  },
  {
   "cell_type": "markdown",
   "id": "c2d92a35",
   "metadata": {},
   "source": [
    "<h4><span style='color:red'>Liste (ou tableau) à 2 dimensions</span></h4>"
   ]
  },
  {
   "cell_type": "markdown",
   "id": "506e03ad",
   "metadata": {},
   "source": [
    "Pour représenter le tableau suivant en python :\n",
    "<table>\n",
    "    <tr><td>120</td><td>145</td><td>87</td></tr>\n",
    "    <tr><td>12</td><td>67</td><td>89</td></tr>\n",
    "    <tr><td>90</td><td>113</td><td>85</td></tr>\n",
    "   </table>\n",
    "  on va utiliser une liste de liste.<br/>"
   ]
  },
  {
   "cell_type": "code",
   "execution_count": null,
   "id": "83ca0559",
   "metadata": {},
   "outputs": [],
   "source": [
    "# le tableau de l'exemple est donc codé ainsi\n",
    "tableau=[[120,145, 87],[12,   67,  89],[90,  113, 85]]\n",
    "# tester la code ci-dessous\n",
    "print(tableau[0])\n",
    "print(tableau[0][1])"
   ]
  },
  {
   "cell_type": "markdown",
   "id": "3f940a16",
   "metadata": {},
   "source": [
    "Vous remarquez donc que pour cibler un élément particulier de la matrice, on utilise la notation avec \"doubles crochets\" : tableau[indiceLigne][indiceColonne].<br/>\n",
    "Ainsi, print(tableau[0][1]) correspondra à la valeur de la 1ère ligne, 2ème colonne du tableau soit 145."
   ]
  },
  {
   "cell_type": "markdown",
   "id": "77c28975",
   "metadata": {},
   "source": [
    "<span style='color:blue'>**Application**</span> :<br/>\n",
    "Afficher le 3ème elément de la 2ème ligne"
   ]
  },
  {
   "cell_type": "code",
   "execution_count": null,
   "id": "f39dfe84",
   "metadata": {},
   "outputs": [],
   "source": [
    "# votre code ci-dessous\n"
   ]
  },
  {
   "cell_type": "markdown",
   "id": "ca8be1cf",
   "metadata": {},
   "source": [
    "<h4>Parcourir une liste de liste</h4>"
   ]
  },
  {
   "cell_type": "markdown",
   "id": "bfc4b573",
   "metadata": {},
   "source": [
    "Comme pour le parcours d'une liste simple, une boucle for qui parcourt les indices est tout à fait conseillé.<br/> Cependant, vous avez vu qu'il faut en fait deux indices, celui des lignes et celui des colonnes.<br/>\n",
    "<b>Il faut donc deux boucles for imbriquées pour parcourir ce type de liste.</b>"
   ]
  },
  {
   "cell_type": "markdown",
   "id": "c91f013b",
   "metadata": {},
   "source": [
    "<div class=\"alert alert-info\">23- Complétez le code ci-dessous pour afficher toutes les valeurs du tableau"
   ]
  },
  {
   "cell_type": "code",
   "execution_count": null,
   "id": "4151352a",
   "metadata": {},
   "outputs": [],
   "source": [
    "tableau=[[120,145,87], [12,67,89], [90,113,85],[123,45,89]]\n",
    "Nb_colonne=3\n",
    "Nb_ligne=4\n",
    "for ..... : \n",
    "    for ......:\n",
    "        print(tableau[..][..])"
   ]
  },
  {
   "cell_type": "markdown",
   "id": "ded377f1",
   "metadata": {},
   "source": [
    "<h4>Création d'une liste de liste</h4>"
   ]
  },
  {
   "cell_type": "markdown",
   "id": "0f815c8d",
   "metadata": {},
   "source": [
    "On peut également créer ce type de tableau en utilisant une allocation (liste ou tableau bidimensionnelle par compréhension) .\n",
    "<br/>Ainsi, l'instruction suivante permet de créer une liste bidimensionnelle de taille 3 x 3 ne contenant que des 0 :"
   ]
  },
  {
   "cell_type": "code",
   "execution_count": null,
   "id": "4d8c6ff9",
   "metadata": {},
   "outputs": [],
   "source": [
    "tableau=[[0 for j in range(0,3)] for i in range(0,3)]\n",
    "print(tableau)"
   ]
  },
  {
   "cell_type": "markdown",
   "id": "360c46f6",
   "metadata": {},
   "source": [
    "<div class=\"alert alert-info\">\n",
    "\n",
    "24- Créer le tableau suivant :  \n",
    "    \n",
    "    [[0, 1, 2, 3, 4], [10, 11, 12, 13, 14], [20, 21, 22, 23, 24], [30, 31, 32, 33, 34]]\n",
    "\n",
    "en utilisant le principe des listes par compréhension</div>"
   ]
  },
  {
   "cell_type": "code",
   "execution_count": null,
   "id": "574cd3d7",
   "metadata": {},
   "outputs": [],
   "source": [
    "# votre code ci-dessous\n"
   ]
  },
  {
   "cell_type": "markdown",
   "id": "6e856da6",
   "metadata": {},
   "source": [
    "<h3><span style='color:red'>Les chaînes de caractères</span></h3>"
   ]
  },
  {
   "cell_type": "markdown",
   "id": "650055bc",
   "metadata": {},
   "source": [
    "<h4>Indice du terme d'une chaîne de caractères. Longueur d'une chaîne de caractères</h4>\n",
    "Le premier caractère d'une chaîne de caractères **char** est obtenu en tapant **char[0]**, le caractère suivant **char[1]**, etc.\n",
    "\n",
    "Si **char=\"car\"** alors le premier caractère 'c' de la chaîne a pour **indice** 0, le second 'a' a pour **index 1**, et le dernier 'r' a pour **rang** 2. Les mots indice, index ou rang sont synonymes.\n",
    "\n",
    "La fonction Python **len()** renvoie la **longueur** ou la **taille** de la chaîne de caractères **char**, c'est-à-dire le nombre n de caractères qui composent la chaîne **char**.\n",
    "Attention, si la chaîne **char** contient n valeurs alors le dernier caractère de la chaîne est **char[n-1]** que l'on peut aussi obtenir par **char[len(L)-1]**."
   ]
  },
  {
   "cell_type": "code",
   "execution_count": null,
   "id": "6a736213",
   "metadata": {},
   "outputs": [],
   "source": [
    "# Tester le code ci-dessous\n",
    "chaine=\"Antoine\"\n",
    "print(chaine[0])\n",
    "print(chaine[1])\n",
    "print(chaine[2])\n",
    "print(len(chaine))\n",
    "print(chaine[len(chaine)-1])\n",
    "print(chaine[len(chaine)])"
   ]
  },
  {
   "cell_type": "markdown",
   "id": "8f9b2c75",
   "metadata": {},
   "source": [
    "`print(chaine[len(chaine)])` renvoie un message d'erreur car l'index 8 n'existe pas, d'où le message \"index out of range\".\n",
    "\n",
    "<span style='color:blue'>**Application**</span> :\n",
    "\n",
    "On considère la chaîne de caractères `phrase=\"L'homme est un loup pour l'homme\"`. \n",
    "\n",
    "Compléter la ligne 2 en utilisant **len(L)** pour afficher le dernier caractère de **phrase**."
   ]
  },
  {
   "cell_type": "code",
   "execution_count": null,
   "id": "ac0669c6",
   "metadata": {},
   "outputs": [],
   "source": [
    "phrase=\"L'homme est un loup pour l'homme\"\n",
    "print(...)"
   ]
  },
  {
   "cell_type": "markdown",
   "id": "9a65aa18",
   "metadata": {},
   "source": [
    "<h4>Affichage d'une partie de la chaîne</h4>\n",
    "En utilisant les indices, on peut afficher une partie seulement de la chaîne.<br/>\n",
    "    On appelle cette technique : <b>Le slicing</b><br/>"
   ]
  },
  {
   "cell_type": "code",
   "execution_count": null,
   "id": "e66237ea",
   "metadata": {},
   "outputs": [],
   "source": [
    "# Tester le code ci-dessous\n",
    "chaine=\"Antoine\"\n",
    "print (chaine [1:4])\n",
    "print (chaine [2:])\n",
    "print (chaine [-1])\n",
    "print (chaine [-6:])"
   ]
  },
  {
   "cell_type": "markdown",
   "id": "437e5bd4",
   "metadata": {},
   "source": [
    "<span style='color:blue'>**Application**</span> :\n",
    "\n",
    "On considère la chaîne de caractères `phrase=\"L'homme est un loup pour l'homme\"`. \n",
    "\n",
    "Compléter la ligne 2 en utilisant  pour afficher les caractères : `\"est un loup\"`"
   ]
  },
  {
   "cell_type": "code",
   "execution_count": null,
   "id": "a94c9319",
   "metadata": {},
   "outputs": [],
   "source": [
    "phrase=\"L'homme est un loup pour l'homme\"\n",
    "print(...)"
   ]
  },
  {
   "cell_type": "markdown",
   "id": "958a8913",
   "metadata": {},
   "source": [
    "<h4>Parcourir une chaine de caractère</h4>\n",
    "Comme pour les listes, une chaine de caractère est un itérable, on peut donc le parcourir pour récupérer chacune des valeurs de l'itérable (les caractères ici)<br/>\n",
    "La boucle for est donc appropriée pour la parcours d'une chaine de caractère.<br/><br/>\n",
    "Soit on la parcours en utilisant les indices :<br/>\n",
    "Exemple :"
   ]
  },
  {
   "cell_type": "code",
   "execution_count": null,
   "id": "af0f74dd",
   "metadata": {},
   "outputs": [],
   "source": [
    "# Tester le code ci-dessous\n",
    "texte = \"Bonjour\"\n",
    "for indice in range(len(texte)):\n",
    "    print(texte[indice])"
   ]
  },
  {
   "cell_type": "markdown",
   "id": "04a95914",
   "metadata": {},
   "source": [
    "Soit on parcours directement les éléments de la chaine (les caractères donc) car une chaine est un itérable.<br/>\n",
    "Exemple :"
   ]
  },
  {
   "cell_type": "code",
   "execution_count": null,
   "id": "2ee54afa",
   "metadata": {},
   "outputs": [],
   "source": [
    "# Tester le code ci-dessous\n",
    "texte = \"Bonjour\" \n",
    "for caractère in texte:\n",
    "print(caractère)"
   ]
  },
  {
   "cell_type": "markdown",
   "id": "2a7ee291",
   "metadata": {},
   "source": [
    "<h4>La concaténation</h4>\n",
    "La concaténation des chaînes de caractères **char1** et **char2** se fait avec l'opérateur +. \n",
    "\n",
    "**char1** + **char2** correspond à la seule chaîne composée des charactères de **char1** suivis des caractères de **char2**.\n",
    "\n",
    "Il est à noter que la chaîne **char1** + **char2** diffère de la chaîne **char2** + **char1** comme le montre la _cellule Code_ suivante :"
   ]
  },
  {
   "cell_type": "code",
   "execution_count": null,
   "id": "5f67c1e1",
   "metadata": {},
   "outputs": [],
   "source": [
    "# Tester le code ci-dessous\n",
    "char1=\"bonjour \"\n",
    "char2=\"Pierre \"\n",
    "print(char1 + char2)\n",
    "print(char2 + char1)"
   ]
  },
  {
   "cell_type": "code",
   "execution_count": null,
   "id": "0c389c0a",
   "metadata": {},
   "outputs": [],
   "source": [
    "# tester le code ci-dessous et expliquer le résultat\n",
    "# modifier votre code pour rectifier le problème observé\n",
    "age= 18\n",
    "res= \"J ai \"+ age +\" ans\"\n",
    "print (res)"
   ]
  },
  {
   "cell_type": "markdown",
   "id": "f9c79c8b",
   "metadata": {},
   "source": [
    "<h4>Modifier une chaine existante</h4>\n",
    "L'affectation n'est pas possible\n",
    "\n",
    "Contrairement aux listes, il n'est pas possible de modifier une lettre d'une chaîne de caractères à l'aide d'une affectation.\n",
    "\n",
    "Exécuter le code suivant pour vous en convaincre."
   ]
  },
  {
   "cell_type": "code",
   "execution_count": null,
   "id": "66f97958",
   "metadata": {},
   "outputs": [],
   "source": [
    "nom = \"Antoine\"\n",
    "nom[0]='B'"
   ]
  },
  {
   "cell_type": "markdown",
   "id": "0dbed0d6",
   "metadata": {},
   "source": [
    "<div class=\"alert alert-info\">\n",
    "    \n",
    "25- Ecriture d'un texte \"en miroir\"  \n",
    "Vous décidez d’écrire un programme permettant l'écriture en miroir d'un texte afin de rendre vos copies illisibles par le commun des mortels.  \n",
    "Les lettres seront donc inversées et donc écrites de droite à gauche.\n",
    "    \n",
    "    Entrée \n",
    "    Une ligne de texte qu’il faut inverser. \n",
    "    Sortie\n",
    "    vous devez l’afficher de manière inversée. \n",
    "    Exemple\n",
    "    entrée :\n",
    "    Rien ne sert de courir il faut partir à point\n",
    "    sortie :\n",
    "    tniop à ritrap tuaf li riruoc ed tres en neiR\n",
    "    \n",
    "</div>"
   ]
  },
  {
   "cell_type": "code",
   "execution_count": null,
   "id": "17accf35",
   "metadata": {},
   "outputs": [],
   "source": [
    "# votre code ci-dessous\n"
   ]
  },
  {
   "cell_type": "markdown",
   "id": "f73b1731",
   "metadata": {},
   "source": [
    "<div class=\"alert alert-info\">\n",
    "\n",
    "26- Pour compliquer encore davantage, vous avez décidé de supprimer l’ensemble des voyelles (et les espaces) d’un texte.  \n",
    "\n",
    "    Entrée\n",
    "    Une ligne du texte à modifier\n",
    "    Sortie\n",
    "    le texte sans aucune voyelle, ni espace.\n",
    "    \n",
    "    Exemple\n",
    "    entrée :\n",
    "    AUTANT EN EMPORTE LE VENT\n",
    "    sortie :\n",
    "    TNTNMPRTLVNT\n",
    "    \n",
    "</div>"
   ]
  },
  {
   "cell_type": "code",
   "execution_count": null,
   "id": "a98e8bad",
   "metadata": {},
   "outputs": [],
   "source": [
    "# votre code ci-dessous\n"
   ]
  },
  {
   "cell_type": "markdown",
   "id": "0705fcfb",
   "metadata": {},
   "source": [
    "<h3><span style='color:red'>Les Tuples</span></h3>"
   ]
  },
  {
   "cell_type": "markdown",
   "id": "fe65ba52",
   "metadata": {},
   "source": [
    "Un tuple est un type de variable ressemblant fortement à la liste. Il s'écrit de la manière suivante :"
   ]
  },
  {
   "cell_type": "code",
   "execution_count": null,
   "id": "33d1bbee",
   "metadata": {},
   "outputs": [],
   "source": [
    "mon_tuple=(5,8,6,9)\n",
    "print(mon_tuple[1])\n",
    "print(len(mon_tuple))\n",
    "mon_tuple[0]=7"
   ]
  },
  {
   "cell_type": "markdown",
   "id": "79e13c62",
   "metadata": {},
   "source": [
    "<h4>Indice du terme d'un tuple</h4>\n",
    "\n",
    "Le premier élément d'un tuple *mon_tuple* est obtenu en tapant *mon_tuple*[0], l'élément suivant avec *mon_tuple*[1], etc.\n",
    "\n",
    "Si *mon_tuple=(5,8,6,9)* alors le premier élément 5 du tuple a pour **indice** 0, le second 8 a pour **index 1**, et le dernier 9 a pour **rang** 3. Les mots indice, index ou rang sont synonymes.\n",
    "\n",
    "La fonction Python *len()* renvoie la **longueur** ou la **taille** du tuple *mon_tuple*, c'est-à-dire le nombre n d'éléments qui composent le tuple *mon_tuple*.\n",
    "Attention, si le tuple *mon_tuple* contient n valeurs alors le dernier élément du tuple est *mon_tuple*[n-1] que l'on peut aussi obtenir par *mon_tuple*[len(mon_tuple)-1].\n",
    "\n",
    "Comme vous pouvez le constater, un tuple est créé en utilisant des ().\n",
    "\n",
    "il n'est pas possible de modifier un élément d'un tuple à l'aide d'une affectation."
   ]
  },
  {
   "cell_type": "markdown",
   "id": "93cd4100",
   "metadata": {},
   "source": [
    "<h4>Parcourir un tuple</h4>\n",
    "\n",
    "Comme pour les listes et les chaines de caractère, un tuple est un itérable, on peut donc le parcourir pour récupérer chacune des valeurs de l'itérable (les éléments du tuple ici)<br/>\n",
    "La boucle for est donc appropriée pour la parcours d'un tuple<br/><br/>\n",
    "Soit on la parcours en utilisant les indices :<br/>\n",
    "Exemple :"
   ]
  },
  {
   "cell_type": "code",
   "execution_count": null,
   "id": "18eb26b1",
   "metadata": {},
   "outputs": [],
   "source": [
    "# Tester le code ci-dessous\n",
    "mon_tuple = (5,8,6,9)\n",
    "for indice in range(len(mon_tuple)):\n",
    "    print(mon_tuple[indice])"
   ]
  },
  {
   "cell_type": "markdown",
   "id": "87ce73ef",
   "metadata": {},
   "source": [
    "Soit on parcours directement les éléments du tuple car un tuple est un itérable.<br/>\n",
    "Exemple :"
   ]
  },
  {
   "cell_type": "code",
   "execution_count": null,
   "id": "1c8f1456",
   "metadata": {},
   "outputs": [],
   "source": [
    "# Tester le code ci-dessous\n",
    "mon_tuple = (5,8,6,9)\n",
    "for element in mon_tuple:\n",
    "    print(element)"
   ]
  },
  {
   "cell_type": "markdown",
   "id": "e73998a9",
   "metadata": {},
   "source": [
    "Comme pour les listes et les chaînes de caractères, on peut utiliser la <b>concaténation</b>"
   ]
  },
  {
   "cell_type": "code",
   "execution_count": null,
   "id": "7bcab234",
   "metadata": {},
   "outputs": [],
   "source": [
    "#C tester le code ci-dessous\n",
    "mon_tuple = (5,8,6,9)\n",
    "autre_tuple = (10,11,12,13)\n",
    "print(mon_tuple + autre_tuple)"
   ]
  },
  {
   "cell_type": "markdown",
   "id": "75d7347b",
   "metadata": {},
   "source": [
    "On pourrait s'interroger sur l'intérêt d'utiliser un tuple puisqu'une liste permet plus de choses ! La réponse est simple : les opérations sur les tuples sont plus \"rapides\". <br/>\n",
    "Quand vous savez que votre liste ne sera pas modifiée, il est préférable d'utiliser un tuple à la place d'une liste."
   ]
  },
  {
   "cell_type": "markdown",
   "id": "f5b0851a",
   "metadata": {},
   "source": [
    "<h3><span style='color:red'>Les dictionnaires</span></h3>"
   ]
  },
  {
   "cell_type": "markdown",
   "id": "414eeda0",
   "metadata": {},
   "source": [
    "Comme les listes ou les tuples, les dictionnaires permettent de stocker des données. <br/>\n",
    "Chaque élément d’un dictionnaire est composé de 2 parties, on parle de paires « <b>clé/valeur</b> » séparées par \":\" "
   ]
  },
  {
   "cell_type": "code",
   "execution_count": null,
   "id": "2b2d1043",
   "metadata": {},
   "outputs": [],
   "source": [
    "# exemple de dictionnaire\n",
    "dico = {\"Nom\": \"Levy\", \"Prenom\": \"Stéphane\", \"Date de naissance\": \"Lointaine\"}\n",
    "print(dico)"
   ]
  },
  {
   "cell_type": "markdown",
   "id": "1a9e475c",
   "metadata": {},
   "source": [
    "Chaque paire du dictionnaire est séparée par une virgule, et le dictionnaire est délimitée par des <b>accolades</b>.<br/>\n",
    "Dans l’exemple précédent :\n",
    "- \"Nom\",\"Prenom\" et \"Date de naissance\" sont des clés. <br/>\n",
    "- \"Levy\", \"Stéphane\" et \"Lointaine\" sont des valeurs. <br/>\n",
    "La clé \"Nom\" est associée à la valeur \"Levy\", la clé \"Prenom\" à la valeur \"Stéphane\" et la clé \"Date de naissance\" à la valeur \"Lointaine\" <br/>\n",
    " <br/>\n",
    "Dans les dictionnaires,  <br/>\n",
    "- les clés peuvent être  : des chaînes de caractères, des nombres ou des tuples (mais pas des listes)<br/>\n",
    "- les valeurs peuvent être n'importe quel type de variable. <br/>\n"
   ]
  },
  {
   "cell_type": "markdown",
   "id": "9ca6f5d4",
   "metadata": {},
   "source": [
    "<h4>Indexation d'un dictionnaire</h4>"
   ]
  },
  {
   "cell_type": "markdown",
   "id": "c016b3cb",
   "metadata": {},
   "source": [
    "Dans le cas des variables de types liste, chaîne de caractères et tuples, on pouvait accéder au contenu de la vaiable en utilisant l'indice de l'élément (ou le rang ou l'index)<br/>\n",
    "Exemple : <br>\n",
    "`liste = [25, 89, 6]`<br/>\n",
    "`print(liste[1])` renvoie la valeur 89 qui correspond à l'elément à l'indice 1 dans la liste<br/>\n",
    "Dans le cas des dictionnaires, il n'y a pas d'indice comme dans les cas précédents, c'est la <b>clé qui remplace l'indice</b>\n"
   ]
  },
  {
   "cell_type": "code",
   "execution_count": null,
   "id": "4e1ee451",
   "metadata": {},
   "outputs": [],
   "source": [
    "# Tester le code ci-dessous\n",
    "dico={\"Nom\": \"Levy\", \"Prenom\": \"Stéphane\", \"Date\": \"longtemps\"}\n",
    "print(dico[\"Nom\"]) \n",
    "print('Bonjour je suis {} {} et je suis né il y a {}'.format(dico[\"Prenom\"],dico[\"Nom\"],dico[\"Date\"]))"
   ]
  },
  {
   "cell_type": "markdown",
   "id": "12643472",
   "metadata": {},
   "source": [
    "<h4>Modifier un dictionnaire</h4>"
   ]
  },
  {
   "cell_type": "markdown",
   "id": "4d5cae57",
   "metadata": {},
   "source": [
    "Les dictionnaires font partie des variables de type mutable. On peut donc modifier un dictionnaire.<br/>\n",
    "On peut y <b>ajouter</b> un couple clé /  valeur, comme dans l'exemple ci-dessous :"
   ]
  },
  {
   "cell_type": "code",
   "execution_count": null,
   "id": "bdda22b3",
   "metadata": {},
   "outputs": [],
   "source": [
    "# tester le code ci-dessous\n",
    "dico={\"Nom\": \"Levy\", \"Prenom\": \"Stéphane\", \"Date de naissance\": \"longtemps\"}\n",
    "dico[\"lieu de naissance\"]=\"Quelque part\"\n",
    "print(dico[\"lieu de naissance\"])"
   ]
  },
  {
   "cell_type": "markdown",
   "id": "a0cd9fcb",
   "metadata": {},
   "source": [
    "On peut <b>supprimer</b> une paire clé / valeur en utilisant l'instruction <b>del</b>. <br/>On utilise la clé à supprimer."
   ]
  },
  {
   "cell_type": "code",
   "execution_count": null,
   "id": "ab33b3cd",
   "metadata": {},
   "outputs": [],
   "source": [
    "# tester le code ci-dessous\n",
    "mes_livres={\"BD\": 850, \"Roman\": 160, \"Science\": 47}\n",
    "del mes_livres[\"Roman\"]\n",
    "print(mes_livres)"
   ]
  },
  {
   "cell_type": "markdown",
   "id": "2906f5c2",
   "metadata": {},
   "source": [
    "On peut <b>modifier</b> une valeur existante. <br/>On utilise alors la clé correspondant à la valeur à modifier."
   ]
  },
  {
   "cell_type": "code",
   "execution_count": null,
   "id": "c7c8dfb1",
   "metadata": {},
   "outputs": [],
   "source": [
    "# tester le code ci-dessous\n",
    "mes_livres={\"BD\": 850, \"Roman\": 160, \"Science\": 47}\n",
    "mes_livres[\"BD\"] = mes_livres[\"BD\"] + 1\n",
    "mes_livres[\"Roman\"] = 189\n",
    "print(mes_livres)\n",
    "print(len(mes_livres))"
   ]
  },
  {
   "cell_type": "markdown",
   "id": "3c8ae001",
   "metadata": {},
   "source": [
    "Afin de comprendre le code précédent, nous pouvons faire un parrallèle avec les listes<br/>\n",
    "dans la liste :<br/>\n",
    "`liste = [850, 160, 47]`  \n",
    "Pour modifier la 2ème valeur par un 189, vous auriez écrit : `liste[1] = 189` <br/>\n",
    "pour le dico :<br/>\n",
    "    `mes_livres={\"BD\": 850, \"Roman\": 160, \"Science\": 47}`<br/>\n",
    "    Vous n'avez pas d'indice à votre disposition mais vous avez une clé (une sorte d'indice qui aurait un nom)\n",
    "   <br/>\n",
    "Vous écrivez alors : `mes_livres[\"Roman\"] = 189`"
   ]
  },
  {
   "cell_type": "markdown",
   "id": "946dc4f2",
   "metadata": {},
   "source": [
    "<h4>Parcourir un dictionnaire</h4>"
   ]
  },
  {
   "cell_type": "markdown",
   "id": "c780f018",
   "metadata": {},
   "source": [
    "Comme pour toutes les variables que l'on a vu, on parcourt les dictionnaire en utilisant une boucle for.<br/>\n",
    "Comme il n'y a pas d'indice, on ne peut donc pas utiliser la méthode classique de parcours des indices<br/>\n",
    "On va donc parcourir directement les eléments du dictionnaire car c'est un itérable."
   ]
  },
  {
   "cell_type": "code",
   "execution_count": null,
   "id": "00cc7bcd",
   "metadata": {},
   "outputs": [],
   "source": [
    "# tester le code ci-dessous\n",
    "mes_livres={\"BD\": 850, \"Roman\": 160, \"Science\": 47}\n",
    "for element in mes_livres:\n",
    "    print(element)"
   ]
  },
  {
   "cell_type": "markdown",
   "id": "53e57abb",
   "metadata": {},
   "source": [
    "L'exemple précédent montre qu'un parcours sur les eléments permet d'obtenir les clés du dictionnaire concerné.<br/>\n",
    "Il existe d'autres méthodes de parcours qui permettent de récupérer uniquement les valeurs mais aussi les couples clé / valeur<br/>\n"
   ]
  },
  {
   "cell_type": "markdown",
   "id": "f11c22d8",
   "metadata": {},
   "source": [
    "<b>Un autre parcours de clé</b>"
   ]
  },
  {
   "cell_type": "code",
   "execution_count": null,
   "id": "cdf334b3",
   "metadata": {},
   "outputs": [],
   "source": [
    "# tester le code ci-dessous\n",
    "mes_livres={\"BD\": 850, \"Roman\": 160, \"Science\": 47}\n",
    "for livres in mes_livres.keys():\n",
    "    print(livres)"
   ]
  },
  {
   "cell_type": "markdown",
   "id": "a1855bd3",
   "metadata": {},
   "source": [
    "<b>Un parcours des valeurs</b>"
   ]
  },
  {
   "cell_type": "code",
   "execution_count": null,
   "id": "4f2f60c0",
   "metadata": {},
   "outputs": [],
   "source": [
    "# tester le code ci-dessous\n",
    "mes_livres={\"BD\": 850, \"Roman\": 160, \"Science\": 47}\n",
    "for qte in mes_livres.values():\n",
    "    print(qte)"
   ]
  },
  {
   "cell_type": "markdown",
   "id": "b474e246",
   "metadata": {},
   "source": [
    "<b>Un parcours à la fois des clés et des valeurs</b>"
   ]
  },
  {
   "cell_type": "code",
   "execution_count": null,
   "id": "7fc540e1",
   "metadata": {},
   "outputs": [],
   "source": [
    "# tester le code ci-dessous\n",
    "mes_livres={\"BD\": 850, \"Roman\": 160, \"Science\": 47}\n",
    "for livres,qte in mes_livres.items():\n",
    "    print(livres,qte)"
   ]
  },
  {
   "cell_type": "markdown",
   "id": "4cf117cb",
   "metadata": {},
   "source": [
    "<div class=\"alert alert-info\">\n",
    "    \n",
    "27- on utilise le dictionnaire suivant :   \n",
    "`d = {\"voiture\": 25, \"vélo\": 55, \"train\": 20}`  \n",
    "Construisez une liste ne contenant que les clés du dictionnaire dont les valeurs sont inférieures à 40.<br/>\n",
    "Vous pouvez le faire ne une seule ligne en utilisant la création de liste par compréhension</div>"
   ]
  },
  {
   "cell_type": "code",
   "execution_count": null,
   "id": "6988b4fc",
   "metadata": {},
   "outputs": [],
   "source": [
    "# votre code ci-dessous\n"
   ]
  },
  {
   "cell_type": "markdown",
   "id": "35cd89f9",
   "metadata": {},
   "source": [
    "<div class=\"alert alert-info\">28- Soit le programme suivant : </div>"
   ]
  },
  {
   "cell_type": "code",
   "execution_count": null,
   "id": "d6490c90",
   "metadata": {},
   "outputs": [],
   "source": [
    "tab = [{'nom': 'toto', 'num': 2}, {'nom': 'titi', 'num': 5},  {'nom': 'tata', 'num': 4}]\n",
    "tab_nom =  []\n",
    "for t in tab :\n",
    "    if t['num'] > 3:\n",
    "        tab_nom.append(t['nom'])"
   ]
  },
  {
   "cell_type": "markdown",
   "id": "00a5bdae",
   "metadata": {},
   "source": [
    "<div class=\"alert alert-info\"><b>Sans exécuter, ni modifier le programme, quelle est la valeur de la variable tab_nom après l'exécution de ce programme.</b></div>"
   ]
  },
  {
   "cell_type": "raw",
   "id": "839d4443",
   "metadata": {},
   "source": [
    "votre réponse\n"
   ]
  },
  {
   "cell_type": "markdown",
   "id": "e071799e",
   "metadata": {},
   "source": [
    "<div class=\"alert alert-info\">\n",
    "    \n",
    "29- On utilise un tableau et des dictionnaires pour stocker des noms et des numéros de téléphone :  \n",
    "`tab_tel = [{'nom':'Titi', 'num':987675643}, {'nom':'Tutu', 'num':424224}, {'nom':'Toto', 'num':343235365}]`  \n",
    "Votre programme prend en entrée le tableau `tab_tel` ci-dessus et un `nom` : n<br/>\n",
    "Il doit renvoyer le numéro de téléphone de n si ce dernier existe. Dans le cas où n n'existe pas, il doit renvoyer -1</div>"
   ]
  },
  {
   "cell_type": "code",
   "execution_count": null,
   "id": "aa16e484",
   "metadata": {},
   "outputs": [],
   "source": [
    "# votre code ci-dessous\n",
    "tab_tel = [{'nom':'Titi', 'num':987675643}, {'nom':'Tutu', 'num':424224}, {'nom':'Toto', 'num':343235365}]\n"
   ]
  },
  {
   "cell_type": "markdown",
   "id": "2335654f",
   "metadata": {},
   "source": [
    "<h2><span style='color:red'>4ème partie : les fonctions</span></h2>"
   ]
  },
  {
   "cell_type": "markdown",
   "id": "2f05dd57",
   "metadata": {},
   "source": [
    "Une fonction possède un nom (éviter les caractères accentuées et les mots réservés du langage python comme max, min, sort....), des entrées qui sont des **paramètres** (ou encore appelés **arguments**), et une sortie renvoyée généralement par l'instruction *return*.\n",
    "\n",
    " <span style='color:green'>**Exemple**</span> :\n",
    "\n",
    "Exécutez la *cellule Code* suivantes :"
   ]
  },
  {
   "cell_type": "code",
   "execution_count": null,
   "id": "a05e30b9",
   "metadata": {},
   "outputs": [],
   "source": [
    "def f(x):\n",
    "    return 5*x-2\n",
    "\n",
    "print(f(3))"
   ]
  },
  {
   "cell_type": "markdown",
   "id": "a25436a9",
   "metadata": {},
   "source": [
    "Ici la fonction python a pour :\n",
    "* nom *f*.\n",
    "* paramètre $x$.\n",
    "* sortie le résultat du calcul $5x-2$ qui renvoyé par l'instruction *return*.\n",
    "\n",
    "Il est à noter que :\n",
    "* la première ligne d'une fonction commence par `def` et se termine par un `: (deux-points)`.\n",
    "* Après le : (deux-points), à la ligne 2, il y a une indentation qui marque le début du corps de la fonction.\n",
    "* Lorsque l'indentation se termine, on sort de la fonction.\n",
    "* Lorsque vous faites un **appel** de fonction, vous devez impérativement préciser la valeur du ou des paramètres. Ligne 4 : f(3). Le paramètre $x$ prend la valeur 3.\n",
    "* le parenthésage dans l'instruction `print()` est obligatoire contrairement à l'instruction `return`.\n"
   ]
  },
  {
   "cell_type": "markdown",
   "id": "b746d806",
   "metadata": {},
   "source": [
    "<div class=\"alert alert-info\">\n",
    "30- Ecrivez une fonction table qui prend en argument une `base` sous forme d'un entier afin d'afficher les dix premières valeurs de n'importe quelle table de multiplication de la base passée en argument.<br/><br/>\n",
    "\n",
    "    Exemple :\n",
    "    Entrée\n",
    "    table(2)\n",
    "    tireruntrait(\"-\",27)\n",
    "    table(3)\n",
    "\n",
    "    Sortie\n",
    "    2 4 6 8 10 12 14 16 18 20 \n",
    "    ---------------------------\n",
    "    3 6 9 12 15 18 21 24 27 30 \n",
    "    \n",
    "</div>"
   ]
  },
  {
   "cell_type": "code",
   "execution_count": null,
   "id": "a2b7289d",
   "metadata": {},
   "outputs": [],
   "source": [
    "# votre code ci-dessous\n"
   ]
  },
  {
   "cell_type": "markdown",
   "id": "82ed5906",
   "metadata": {},
   "source": [
    "<div class=\"alert alert-info\">\n",
    "    \n",
    "31- Modifier la fonction table de l'exercice 3 qui en plus de pouvoir choisir la `base` permet également le choix du `début` et de la `fin` des termes à afficher.<br/> Vous améliorerez l'affichage du résultat (cf. exemple)<br/><br/>\n",
    "\n",
    "    Exemple :\n",
    "    Entrée\n",
    "    table(8,13,16)\n",
    "\n",
    "    Sortie\n",
    "    13 x 8 = 104\n",
    "    14 x 8 = 112\n",
    "    15 x 8 = 120\n",
    "    16 x 8 = 128\n",
    "    \n",
    "</div>"
   ]
  },
  {
   "cell_type": "code",
   "execution_count": null,
   "id": "2c17c4cd",
   "metadata": {},
   "outputs": [],
   "source": [
    "# votre code ci-dessous\n"
   ]
  },
  {
   "cell_type": "markdown",
   "id": "0b37c0d9",
   "metadata": {},
   "source": [
    "<h2><span style='color:red'>5ème partie : exercices</span></h2>"
   ]
  },
  {
   "cell_type": "markdown",
   "id": "e8d621d1",
   "metadata": {},
   "source": [
    "<div class=\"alert alert-info\"><b>Exercice 1</b><br/>\n",
    "    \n",
    "On dispose ici de deux tableaux de même longueur. Il s'agit de calculer le nombre de différences entre les deux tableaux. Par exemple avec :\n",
    "    \n",
    "    tab_1  = ['a', 'g', 'u', 'u', 'c', 'o', 'p', 'l', 'm', 'v', 'p']\n",
    "    tab_2  = ['a', 'g', 's', 'u', 'c', 'k', 'p', 'l', 't', 'v', 'p']\n",
    "\n",
    "il y a trois différences entre les deux tableaux : aux indices 2, 5 et 8.\n",
    "    \n",
    "Question 1 :  \n",
    "Compléter la fonction `compter_differences` ci-dessous qui prend en paramètre deux tableaux `tab_1` et `tab_2` **de même longueur** et renvoie le **nombre de différences** entre les deux tableaux.  \n",
    "\n",
    "Question 2 : Pour quelle raison était-il difficilement envisageable d'effectuer un parcours par élément ?\n"
   ]
  },
  {
   "cell_type": "code",
   "execution_count": null,
   "id": "41e4fba5",
   "metadata": {},
   "outputs": [],
   "source": [
    "def compter_differences(tab_1, tab_2):\n",
    "    compteur = ...\n",
    "    for ... in range(...) :\n",
    "        if ... != ...:\n",
    "            compteur = ... + ... # il y a une autre possibilité d'écriture pour cette ligne\n",
    "    \n",
    "    return ...\n",
    "\n",
    "tab_1  = ['a', 'g', 'u', 'u', 'c', 'o', 'p', 'l', 'm', 'v', 'p']\n",
    "tab_2  = ['a', 'g', 's', 'u', 'c', 'k', 'p', 'l', 't', 'v', 'p']\n",
    "compter_differences(tab_1, tab_2)"
   ]
  },
  {
   "cell_type": "raw",
   "id": "b06bdd5e",
   "metadata": {},
   "source": [
    "Votre réponse à la question 2\n"
   ]
  },
  {
   "cell_type": "markdown",
   "id": "166018e4",
   "metadata": {},
   "source": [
    "<div class=\"alert alert-info\"><b>Exercice 2</b><br/>\n",
    "    \n",
    "La factorielle d'un entier n, positif ou nul, vaut :\n",
    "* le produit des entiers de 1 à n si n est supérieur ou égal à 1,\n",
    "* 1 si n est égal à 0.\n",
    "    \n",
    "Question 1 :\n",
    "Compléter la fonction `factorielle` ci-dessous qui prend en paramètre un entier n >= 0 et renvoie la factorielle de ce nombre.\n",
    "On réfléchira à la valeur initiale de la variable facto.\n",
    "    \n",
    "Question 2 :\n",
    "Compléter l'instruction de la cellule suivante afin d'obtenir un tableau avec les 51 premières factorielles, c'est à dire ce tableau :\n",
    "`[1, 1, 2, 6, 24, 120, 720, ... , 30414093201713378043612608166064768844377641568960512000000000000]`\n"
   ]
  },
  {
   "cell_type": "code",
   "execution_count": null,
   "id": "2ad54b28",
   "metadata": {},
   "outputs": [],
   "source": [
    "def factorielle(n):\n",
    "    facto = ...\n",
    "\n",
    "    for ... in range(..., ...) :\n",
    "        facto = ... * ...\n",
    "    \n",
    "    return ...\n",
    "\n",
    "print(factorielle(7))"
   ]
  },
  {
   "cell_type": "code",
   "execution_count": null,
   "id": "b5893738",
   "metadata": {},
   "outputs": [],
   "source": [
    "premieres51 = [ ... for ... in .... ]"
   ]
  },
  {
   "cell_type": "markdown",
   "id": "a387e3b8",
   "metadata": {},
   "source": [
    "<div class=\"alert alert-info\"><b>Exercice 3</b><br/>\n",
    "    \n",
    "À un jeu de plateau, il faut lancer un dé cinq fois et calculer un score. On calcule le score comme suit :\n",
    "* le score est égal à la somme des dés,\n",
    "* si le dernier dé est un cinq alors le score est diminué de neuf points,\n",
    "* si le dernier dé est un six alors le score est doublé.\n",
    "\n",
    "Compléter la fonction ci-dessous qui prend en argument un seul 5-uplet (tuple de 5 éléments) correspondant au lancer de cinq dés et calcule le score correspondant (Attention : la fonction ne prend PAS en argument cinq entiers !).\n"
   ]
  },
  {
   "cell_type": "code",
   "execution_count": null,
   "id": "924341a2",
   "metadata": {},
   "outputs": [],
   "source": [
    "from random import randint\n",
    "\n",
    "def score(des):\n",
    "    score = des[0] + ... + ... + ... + ...\n",
    "    if ... == ... :\n",
    "        score = ...\n",
    "    elif ... == ... :\n",
    "        score = ...\n",
    "    return ...\n",
    "\n",
    "print(score(...))"
   ]
  },
  {
   "cell_type": "markdown",
   "id": "7745a9fe",
   "metadata": {},
   "source": [
    "<div class=\"alert alert-info\"><b>Exercice 4</b><br/>\n",
    "    \n",
    "On souhaite décorer des chaînes de caractères en leur rajoutant des caractères de décoration aux extrémités. Plus précisément on souhaite leur rajouter les caractères suivants à gauche : `'☆✶✧✲⁕✫_'`\n",
    "Et les mêmes dans l'ordre inverse du côté droit : `'_✫⁕✲✧✶☆'`\n",
    "Par exemple, la version décorée de la chaîne `'bonjour'` est `'☆✶✧✲⁕✫_bonjour_✫⁕✲✧✶☆'`.\n",
    "\n",
    "Question 1 :\n",
    "Compléter la fonction `etoiler_chaines` ci-dessous qui prend en paramètre `tab` une liste de chaînes de caractères et renvoie un nouveau tableau `nv_tab` dont les éléments sont les chaînes de caractères de tab en versions étoilées.\n",
    "\n",
    "Question 2 :\n",
    "Dans votre définition du tableau `nv_ta`b en compréhension, avez-vous choisi de parcourir tab par indice ou par élément ?\n"
   ]
  },
  {
   "cell_type": "code",
   "execution_count": null,
   "id": "c1250a71",
   "metadata": {},
   "outputs": [],
   "source": [
    "def etoiler_chaines(tab):\n",
    "    nv_tab = [ ... + ... + ... for ... in ... ]\n",
    "    return nv_tab\n",
    "\n",
    "print(etoiler_chaines(...))"
   ]
  },
  {
   "cell_type": "markdown",
   "id": "e6a94769",
   "metadata": {},
   "source": [
    "<div class=\"alert alert-info\"><b>Exercice 5</b><br/>\n",
    "    \n",
    "Compléter la fonction `fois_deux` qui prend en paramètre un tableau de nombres entiers et renvoie un nouveau tableau comportant les mêmes nombres multipliés par deux.\n"
   ]
  },
  {
   "cell_type": "code",
   "execution_count": null,
   "id": "35c573ff",
   "metadata": {},
   "outputs": [],
   "source": [
    "def fois_deux(tab):\n",
    "    nv_tab = [ ... * ... for ... in ... ]\n",
    "    return nv_tab\n",
    "\n",
    "print(fois_deux([26, 4, 9, 78, 12, 67, 1584, -5]))"
   ]
  },
  {
   "cell_type": "markdown",
   "id": "b4e46f9e",
   "metadata": {},
   "source": [
    "<div class=\"alert alert-info\"><b>Exercice 6</b><br/>\n",
    "    \n",
    "Question 1 :\n",
    "Compléter la fonction `mot_le_plus_long` ci-dessous qui prend en paramètre un tableau non vide `tab` de mots et renvoie un 2-uplet constitué :\n",
    "* du mot le plus long,\n",
    "* et de la longueur de ce mot le plus long.\n",
    "    \n",
    "En cas d'égalité entre plusieurs mots ayant la longueur maximale, on renverra celui ayant le plus petit indice.\n",
    "\n",
    "Question 2 :\n",
    "Modifier votre fonction pour qu'en cas d'égalité, elle renvoie le mot le plus long ayant le plus grand indice.\n"
   ]
  },
  {
   "cell_type": "code",
   "execution_count": null,
   "id": "3b84218a",
   "metadata": {},
   "outputs": [],
   "source": [
    "def mot_le_plus_long(tab):\n",
    "    longueur_max = len(tab[0])\n",
    "    mot_max = tab[0]\n",
    "    for mot in tab :\n",
    "        if ... > longueur_max :\n",
    "            longueur_max = ...\n",
    "            mot_max = ...\n",
    "    return ..., ...\n",
    "\n",
    "print(mot_le_plus_long(['bonjour','salut','coucou','hello','bonjoue']))"
   ]
  },
  {
   "cell_type": "markdown",
   "id": "ea55d600",
   "metadata": {},
   "source": [
    "<div class=\"alert alert-info\"><b>Exercice 7</b><br/>\n",
    "    \n",
    "En programmation informatique, une permutation consiste à intervertir les valeurs de deux variables. Il s'agit d'une opération courante, mais rarement intégrée aux langages de programmation et jeu d'instructions des processeurs.\n",
    "De nombreux algorithmes, en particulier des algorithmes de tri, utilisent des permutations.\n",
    "\n",
    "Pour un tableau on peut facilement permuter deux valeurs en utilisant la double affectation (qui utilise sans le montrer des 2-uplets). Par exemple pour permuter les valeurs 999999999 et 333 d'indices 2 et 8 dans le tableau suivant :\n",
    "`tab = [1, 22, 999999999, 4444, 55555, 666666, 7777777, 88888888, 333]`\n",
    "C'est à dire effectuer :\n",
    "    \n",
    "                 _______________________________________________\n",
    "                |                                               |\n",
    "                V                                               |\n",
    "    [1, 22, 999999999, 4444, 55555, 666666, 7777777, 88888888, 333]\n",
    "                |                                               Λ\n",
    "                |_______________________________________________|\n",
    "\n",
    "Il suffit d'écrire l'instruction suivante : `tab[2], tab[8] = tab[8], tab[2]`\n",
    "    \n",
    "Il est primordial de noter qu'une permutation ainsi effectuée est une mutation du tableau qui ne nécessite pas de créer un nouveau tableau. En conséquence, sur un tableau passé en paramètre à une fonction, une mutation effectuée dans le corps de la fonction mutera le tableau à l'extérieur de la fonction.\n",
    "    \n",
    "Question 1 :\n",
    "On souhaite inverser un tableau en effectuant des permutations selon le plan suivant :\n",
    "\n",
    "Sur ce tableau de longueur 7 ci-dessous, lorsqu'on souhaite permuter selon ce plan la valeur d'indice i = 2, quel est l'indice j de la valeur qui va être permutée avec elle ?\n",
    "* j = 7 - 1 - i\n",
    "* j = 7 - i\n",
    "* j = 7 + 1 - i\n"
   ]
  },
  {
   "attachments": {
    "img1.png": {
     "image/png": "[encoded data removed]"
    }
   },
   "cell_type": "markdown",
   "id": "eaa712e7",
   "metadata": {},
   "source": [
    "![img1.png](attachment:img1.png)"
   ]
  },
  {
   "cell_type": "markdown",
   "id": "e725427e",
   "metadata": {},
   "source": [
    "<div class=\"alert alert-info\">\n",
    "Question 2 :\n",
    "Compléter la fonction `inverser` ci-dessous qui prend en paramètre un tableau tab de longueur quelconque et le mute afin d'inverser toutes ses valeurs.\n"
   ]
  },
  {
   "cell_type": "code",
   "execution_count": null,
   "id": "d5c59dab",
   "metadata": {},
   "outputs": [],
   "source": [
    "def inverser(tab):\n",
    "    for ... in range(...) :\n",
    "        tab[...], tab[...] = tab[...], tab[...]\n",
    "\n",
    "print(inverser([1,22,99999,4444,55555,66666,7777777,88888888,333]))"
   ]
  },
  {
   "cell_type": "markdown",
   "id": "433fecc2",
   "metadata": {},
   "source": [
    "<div class=\"alert alert-info\"><b>Exercice 8</b><br/>\n",
    "    \n",
    "Les habitants adorent les constructions en forme de pyramide ; de nombreux bâtiments officiels ont d'ailleurs cette forme. Pour fêter les 150 ans de la construction de la ville, le gouverneur a demandé la construction d'une grande et majestueuse pyramide à l'entrée de la ville. Malheureusement, en ces périodes de rigueur budgétaire, il y a peu d'argent pour ce projet. Les architectes souhaitent cependant construire la plus grande pyramide possible étant donné le budget prévu.\n",
    "    \n",
    "Votre programme doit d'abord lire un entier : `le nombre maximum de pierres` dont pourra être composée la pyramide. Il devra ensuite calculer et afficher un entier : `la hauteur de la plus grande pyramide` qui pourra être construite, ainsi que le `nombre de pierres` qui sera nécessaire.\n"
   ]
  },
  {
   "cell_type": "markdown",
   "id": "22f8a4e5",
   "metadata": {},
   "source": [
    "<div class=\"alert alert-info\">\n",
    "    \n",
    "    Exemple 1\n",
    "    entrée :\n",
    "    20\n",
    "    sortie :\n",
    "    3\n",
    "    14\n",
    "\n",
    "    Exemple 2\n",
    "    entrée :\n",
    "    26042\n",
    "    sortie :\n",
    "    42\n",
    "    25585\n",
    "\n",
    "![img2.png](attachment:img2.png)"
   ]
  },
  {
   "cell_type": "code",
   "execution_count": null,
   "id": "b4ab06ab",
   "metadata": {},
   "outputs": [],
   "source": [
    "# votre code ci-dessous\n"
   ]
  },
  {
   "attachments": {
    "img3.png": {
     "image/png": "[encoded data removed]"
    }
   },
   "cell_type": "markdown",
   "id": "f12bb387",
   "metadata": {},
   "source": [
    "<div class=\"alert alert-info\"><b>Exercice 9</b><br/>\n",
    "    \n",
    "Voici une suite :\n",
    "![img3.png](attachment:img3.png)\n",
    "    \n",
    "Pour passer d’une ligne à la suivante, il suffit de lire à haute voix en comptant les nombres !  \n",
    "Par exemple la ligne 1211 est lue « un un (pour 1), un deux (pour 2), deux un (pour 1 1) », la ligne d’après est donc 111221.  \n",
    "Cette dernière ligne se lit « trois uns, deux deux, un un » donc la ligne suivante sera 312211.\n",
    "\n",
    "Programmer une fonction `lecture(mot)` qui calcule et renvoie la lecture de la chaîne mot.   \n",
    "Par exemple  \n",
    "`lecture(\"1211\") renvoie \"111221\".`\n",
    "    \n",
    "* Indications. Vous pouvez utiliser trois variables : une variable qui lit chaque caractère du mot, une variable correspondant au caractère précédent, un compteur à incrémenter si ces deux caractères sont égaux.\n",
    "* Algorithme. Si vous n’y arrivez pas tout seul, voici les grandes lignes d’un algorithme possible.\n",
    "Pour chaque caractère du mot :  \n",
    "—\tsi le caractère est le même que le caractère précédent, incrémenter le compteur,  \n",
    "—\tsinon, rajouter au mot à créer la valeur du compteur suivie du caractère précédent.  \n",
    "À la fin, il faut aussi rajouter au mot à créer la valeur du compteur suivie du caractère précédent.\n",
    "\n",
    "**Question**. Trouvez le premier mot qui contient 33.\n",
    "    "
   ]
  },
  {
   "cell_type": "code",
   "execution_count": null,
   "id": "9fb7a1fb",
   "metadata": {},
   "outputs": [],
   "source": [
    "# votre code ci-dessous\n"
   ]
  }
 ],
 "metadata": {
  "kernelspec": {
   "display_name": "Python 3 (ipykernel)",
   "language": "python",
   "name": "python3"
  },
  "language_info": {
   "codemirror_mode": {
    "name": "ipython",
    "version": 3
   },
   "file_extension": ".py",
   "mimetype": "text/x-python",
   "name": "python",
   "nbconvert_exporter": "python",
   "pygments_lexer": "ipython3",
   "version": "3.11.5"
  }
 },
 "nbformat": 4,
 "nbformat_minor": 5
}
